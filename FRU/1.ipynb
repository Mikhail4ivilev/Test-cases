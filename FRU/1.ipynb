{
 "cells": [
  {
   "cell_type": "code",
   "execution_count": 138,
   "metadata": {},
   "outputs": [],
   "source": [
    "# Libraries required\n",
    "\n",
    "# Data\n",
    "import pandas as pd\n",
    "import numpy as np\n",
    "\n",
    "#Statistics\n",
    "from scipy.stats import chi2_contingency, mannwhitneyu, kruskal\n",
    "\n",
    "# Visualization\n",
    "import matplotlib.pyplot as plt\n",
    "from matplotlib.backends.backend_agg import FigureCanvasAgg\n",
    "from matplotlib.transforms import Bbox\n",
    "import seaborn as sns\n",
    "import plotly.graph_objects as go\n",
    "import plotly.express as px\n",
    "palette = plt.get_cmap('Set2')\n",
    "plt.style.use('seaborn-darkgrid')\n",
    "\n",
    "# Warnings\n",
    "import warnings\n",
    "warnings.filterwarnings('ignore')"
   ]
  },
  {
   "cell_type": "code",
   "execution_count": 12,
   "metadata": {},
   "outputs": [
    {
     "name": "stdout",
     "output_type": "stream",
     "text": [
      "Rows: 58770\n"
     ]
    },
    {
     "data": {
      "text/html": [
       "<div>\n",
       "<style scoped>\n",
       "    .dataframe tbody tr th:only-of-type {\n",
       "        vertical-align: middle;\n",
       "    }\n",
       "\n",
       "    .dataframe tbody tr th {\n",
       "        vertical-align: top;\n",
       "    }\n",
       "\n",
       "    .dataframe thead th {\n",
       "        text-align: right;\n",
       "    }\n",
       "</style>\n",
       "<table border=\"1\" class=\"dataframe\">\n",
       "  <thead>\n",
       "    <tr style=\"text-align: right;\">\n",
       "      <th></th>\n",
       "      <th>ClientID</th>\n",
       "      <th>EventTime</th>\n",
       "      <th>EventType</th>\n",
       "      <th>DonationType</th>\n",
       "      <th>AmountInUSD</th>\n",
       "      <th>tag</th>\n",
       "    </tr>\n",
       "  </thead>\n",
       "  <tbody>\n",
       "    <tr>\n",
       "      <th>0</th>\n",
       "      <td>885410877</td>\n",
       "      <td>2022-07-20 00:00:23</td>\n",
       "      <td>checkoutView</td>\n",
       "      <td>NaN</td>\n",
       "      <td>NaN</td>\n",
       "      <td>control</td>\n",
       "    </tr>\n",
       "    <tr>\n",
       "      <th>1</th>\n",
       "      <td>859319263</td>\n",
       "      <td>2022-07-20 00:00:48</td>\n",
       "      <td>checkoutView</td>\n",
       "      <td>NaN</td>\n",
       "      <td>NaN</td>\n",
       "      <td>test</td>\n",
       "    </tr>\n",
       "    <tr>\n",
       "      <th>2</th>\n",
       "      <td>480984859</td>\n",
       "      <td>2022-07-20 00:00:58</td>\n",
       "      <td>checkoutView</td>\n",
       "      <td>NaN</td>\n",
       "      <td>NaN</td>\n",
       "      <td>control</td>\n",
       "    </tr>\n",
       "    <tr>\n",
       "      <th>3</th>\n",
       "      <td>204664871</td>\n",
       "      <td>2022-07-20 00:01:00</td>\n",
       "      <td>checkoutView</td>\n",
       "      <td>NaN</td>\n",
       "      <td>NaN</td>\n",
       "      <td>test</td>\n",
       "    </tr>\n",
       "    <tr>\n",
       "      <th>4</th>\n",
       "      <td>859319263</td>\n",
       "      <td>2022-07-20 00:01:05</td>\n",
       "      <td>checkoutView</td>\n",
       "      <td>NaN</td>\n",
       "      <td>NaN</td>\n",
       "      <td>test</td>\n",
       "    </tr>\n",
       "  </tbody>\n",
       "</table>\n",
       "</div>"
      ],
      "text/plain": [
       "    ClientID           EventTime     EventType DonationType  AmountInUSD  \\\n",
       "0  885410877 2022-07-20 00:00:23  checkoutView          NaN          NaN   \n",
       "1  859319263 2022-07-20 00:00:48  checkoutView          NaN          NaN   \n",
       "2  480984859 2022-07-20 00:00:58  checkoutView          NaN          NaN   \n",
       "3  204664871 2022-07-20 00:01:00  checkoutView          NaN          NaN   \n",
       "4  859319263 2022-07-20 00:01:05  checkoutView          NaN          NaN   \n",
       "\n",
       "       tag  \n",
       "0  control  \n",
       "1     test  \n",
       "2  control  \n",
       "3     test  \n",
       "4     test  "
      ]
     },
     "execution_count": 12,
     "metadata": {},
     "output_type": "execute_result"
    }
   ],
   "source": [
    "# Data loading\n",
    "\n",
    "df = pd.read_csv('FRU_analytics_test_task.csv', parse_dates=['EventTime'])\n",
    "\n",
    "print(f'Rows: {df.shape[0]}')\n",
    "\n",
    "df.head()"
   ]
  },
  {
   "cell_type": "code",
   "execution_count": 3,
   "metadata": {},
   "outputs": [
    {
     "data": {
      "text/plain": [
       "ClientID            0\n",
       "EventTime           0\n",
       "EventType           0\n",
       "DonationType    53406\n",
       "AmountInUSD     53406\n",
       "tag              5364\n",
       "dtype: int64"
      ]
     },
     "execution_count": 3,
     "metadata": {},
     "output_type": "execute_result"
    }
   ],
   "source": [
    "# Missing values\n",
    "\n",
    "df.isnull().sum()"
   ]
  },
  {
   "cell_type": "markdown",
   "metadata": {},
   "source": [
    "___\n",
    "__Наблюдение:__ В данных присутствует большое количество выбросов. Пропуски в полях `DonationType` и `AmountInUSD` можно объяснить тем, что данное тип события (checkoutView), не является созданием доната, а вот пропуски в поле `tag` объяснить сложнее. Можно заметить, что сумма пропусков по полям `DonationType` (или `AmountInUSD`) и `tag` совпадает с общим числом строк в датафрейме.\n",
    "___"
   ]
  },
  {
   "cell_type": "code",
   "execution_count": 16,
   "metadata": {},
   "outputs": [
    {
     "data": {
      "text/html": [
       "<div>\n",
       "<style scoped>\n",
       "    .dataframe tbody tr th:only-of-type {\n",
       "        vertical-align: middle;\n",
       "    }\n",
       "\n",
       "    .dataframe tbody tr th {\n",
       "        vertical-align: top;\n",
       "    }\n",
       "\n",
       "    .dataframe thead th {\n",
       "        text-align: right;\n",
       "    }\n",
       "</style>\n",
       "<table border=\"1\" class=\"dataframe\">\n",
       "  <thead>\n",
       "    <tr style=\"text-align: right;\">\n",
       "      <th></th>\n",
       "      <th>ClientID</th>\n",
       "      <th>EventTime</th>\n",
       "      <th>EventType</th>\n",
       "      <th>DonationType</th>\n",
       "      <th>AmountInUSD</th>\n",
       "      <th>tag</th>\n",
       "    </tr>\n",
       "  </thead>\n",
       "  <tbody>\n",
       "    <tr>\n",
       "      <th>3</th>\n",
       "      <td>204664871</td>\n",
       "      <td>2022-07-20 00:01:00</td>\n",
       "      <td>checkoutView</td>\n",
       "      <td>NaN</td>\n",
       "      <td>NaN</td>\n",
       "      <td>test</td>\n",
       "    </tr>\n",
       "    <tr>\n",
       "      <th>14</th>\n",
       "      <td>204664871</td>\n",
       "      <td>2022-07-20 00:03:50</td>\n",
       "      <td>charge</td>\n",
       "      <td>one-time</td>\n",
       "      <td>200.0</td>\n",
       "      <td>NaN</td>\n",
       "    </tr>\n",
       "    <tr>\n",
       "      <th>18</th>\n",
       "      <td>204664871</td>\n",
       "      <td>2022-07-20 00:04:27</td>\n",
       "      <td>checkoutView</td>\n",
       "      <td>NaN</td>\n",
       "      <td>NaN</td>\n",
       "      <td>test</td>\n",
       "    </tr>\n",
       "    <tr>\n",
       "      <th>22</th>\n",
       "      <td>204664871</td>\n",
       "      <td>2022-07-20 00:05:01</td>\n",
       "      <td>charge</td>\n",
       "      <td>one-time</td>\n",
       "      <td>28.0</td>\n",
       "      <td>NaN</td>\n",
       "    </tr>\n",
       "  </tbody>\n",
       "</table>\n",
       "</div>"
      ],
      "text/plain": [
       "     ClientID           EventTime     EventType DonationType  AmountInUSD  \\\n",
       "3   204664871 2022-07-20 00:01:00  checkoutView          NaN          NaN   \n",
       "14  204664871 2022-07-20 00:03:50        charge     one-time        200.0   \n",
       "18  204664871 2022-07-20 00:04:27  checkoutView          NaN          NaN   \n",
       "22  204664871 2022-07-20 00:05:01        charge     one-time         28.0   \n",
       "\n",
       "     tag  \n",
       "3   test  \n",
       "14   NaN  \n",
       "18  test  \n",
       "22   NaN  "
      ]
     },
     "execution_count": 16,
     "metadata": {},
     "output_type": "execute_result"
    }
   ],
   "source": [
    "# Sample\n",
    "\n",
    "df[df['ClientID'].eq(204664871)]"
   ]
  },
  {
   "cell_type": "markdown",
   "metadata": {},
   "source": [
    "___\n",
    "__Наблюдение:__ Один и тот же клиент может присутствовать в данных несколько раз, более того поле `tag` заполняется только для события checkoutView.\n",
    "___"
   ]
  },
  {
   "cell_type": "code",
   "execution_count": 82,
   "metadata": {},
   "outputs": [
    {
     "data": {
      "text/plain": [
       "0"
      ]
     },
     "execution_count": 82,
     "metadata": {},
     "output_type": "execute_result"
    }
   ],
   "source": [
    "sum(df[df['tag'].isin(('control', 'test'))].groupby('ClientID')['tag'].agg(set).apply(lambda x: len(x)) > 1)"
   ]
  },
  {
   "cell_type": "markdown",
   "metadata": {},
   "source": [
    "____\n",
    "__Наблюдение:__ Одному и тому же клиенту соответствует единственное значение из поля `tag`.\n",
    "____"
   ]
  },
  {
   "cell_type": "code",
   "execution_count": 36,
   "metadata": {
    "code_folding": [
     0
    ]
   },
   "outputs": [
    {
     "name": "stdout",
     "output_type": "stream",
     "text": [
      "Rows: 53406\n"
     ]
    },
    {
     "data": {
      "text/html": [
       "<div>\n",
       "<style scoped>\n",
       "    .dataframe tbody tr th:only-of-type {\n",
       "        vertical-align: middle;\n",
       "    }\n",
       "\n",
       "    .dataframe tbody tr th {\n",
       "        vertical-align: top;\n",
       "    }\n",
       "\n",
       "    .dataframe thead th {\n",
       "        text-align: right;\n",
       "    }\n",
       "</style>\n",
       "<table border=\"1\" class=\"dataframe\">\n",
       "  <thead>\n",
       "    <tr style=\"text-align: right;\">\n",
       "      <th></th>\n",
       "      <th>ClientID</th>\n",
       "      <th>EventTime</th>\n",
       "      <th>tag</th>\n",
       "      <th>Next_EventTime</th>\n",
       "    </tr>\n",
       "  </thead>\n",
       "  <tbody>\n",
       "    <tr>\n",
       "      <th>0</th>\n",
       "      <td>885410877</td>\n",
       "      <td>2022-07-20 00:00:23</td>\n",
       "      <td>control</td>\n",
       "      <td>2022-07-20 00:01:19.000000</td>\n",
       "    </tr>\n",
       "    <tr>\n",
       "      <th>1</th>\n",
       "      <td>859319263</td>\n",
       "      <td>2022-07-20 00:00:48</td>\n",
       "      <td>test</td>\n",
       "      <td>2022-07-20 00:01:05.000000</td>\n",
       "    </tr>\n",
       "    <tr>\n",
       "      <th>2</th>\n",
       "      <td>480984859</td>\n",
       "      <td>2022-07-20 00:00:58</td>\n",
       "      <td>control</td>\n",
       "      <td>2024-03-06 11:37:21.608804</td>\n",
       "    </tr>\n",
       "    <tr>\n",
       "      <th>3</th>\n",
       "      <td>204664871</td>\n",
       "      <td>2022-07-20 00:01:00</td>\n",
       "      <td>test</td>\n",
       "      <td>2022-07-20 00:04:27.000000</td>\n",
       "    </tr>\n",
       "    <tr>\n",
       "      <th>4</th>\n",
       "      <td>859319263</td>\n",
       "      <td>2022-07-20 00:01:05</td>\n",
       "      <td>test</td>\n",
       "      <td>2024-03-06 11:37:21.608804</td>\n",
       "    </tr>\n",
       "  </tbody>\n",
       "</table>\n",
       "</div>"
      ],
      "text/plain": [
       "    ClientID           EventTime      tag             Next_EventTime\n",
       "0  885410877 2022-07-20 00:00:23  control 2022-07-20 00:01:19.000000\n",
       "1  859319263 2022-07-20 00:00:48     test 2022-07-20 00:01:05.000000\n",
       "2  480984859 2022-07-20 00:00:58  control 2024-03-06 11:37:21.608804\n",
       "3  204664871 2022-07-20 00:01:00     test 2022-07-20 00:04:27.000000\n",
       "4  859319263 2022-07-20 00:01:05     test 2024-03-06 11:37:21.608804"
      ]
     },
     "execution_count": 36,
     "metadata": {},
     "output_type": "execute_result"
    }
   ],
   "source": [
    "# Data transforming 1\n",
    "\n",
    "# Сортируем по дате события 'checkoutView'\n",
    "df_1 = df[df['EventType'].eq('checkoutView')][['ClientID', 'EventTime', 'tag']]\\\n",
    "      .sort_values('EventTime', ignore_index=True)\n",
    "\n",
    "# К каждому клиенту подтягиваем дату его следуещего события 'checkoutView'\n",
    "df_1['Next_EventTime'] = df_1.groupby(['ClientID', 'tag'])['EventTime'].shift(-1)\n",
    "\n",
    "# Пропуски заполняем текущей датой\n",
    "df_1.fillna(pd.Timestamp.now(), inplace=True)\n",
    "\n",
    "print(f'Rows: {df_1.shape[0]}')\n",
    "\n",
    "df_1.head()"
   ]
  },
  {
   "cell_type": "code",
   "execution_count": 60,
   "metadata": {},
   "outputs": [
    {
     "data": {
      "text/html": [
       "<div>\n",
       "<style scoped>\n",
       "    .dataframe tbody tr th:only-of-type {\n",
       "        vertical-align: middle;\n",
       "    }\n",
       "\n",
       "    .dataframe tbody tr th {\n",
       "        vertical-align: top;\n",
       "    }\n",
       "\n",
       "    .dataframe thead th {\n",
       "        text-align: right;\n",
       "    }\n",
       "</style>\n",
       "<table border=\"1\" class=\"dataframe\">\n",
       "  <thead>\n",
       "    <tr style=\"text-align: right;\">\n",
       "      <th></th>\n",
       "      <th>ClientID</th>\n",
       "      <th>EventTime</th>\n",
       "      <th>tag</th>\n",
       "      <th>Next_EventTime</th>\n",
       "    </tr>\n",
       "  </thead>\n",
       "  <tbody>\n",
       "    <tr>\n",
       "      <th>3</th>\n",
       "      <td>204664871</td>\n",
       "      <td>2022-07-20 00:01:00</td>\n",
       "      <td>test</td>\n",
       "      <td>2022-07-20 00:04:27.000000</td>\n",
       "    </tr>\n",
       "    <tr>\n",
       "      <th>17</th>\n",
       "      <td>204664871</td>\n",
       "      <td>2022-07-20 00:04:27</td>\n",
       "      <td>test</td>\n",
       "      <td>2024-03-06 11:37:21.608804</td>\n",
       "    </tr>\n",
       "  </tbody>\n",
       "</table>\n",
       "</div>"
      ],
      "text/plain": [
       "     ClientID           EventTime   tag             Next_EventTime\n",
       "3   204664871 2022-07-20 00:01:00  test 2022-07-20 00:04:27.000000\n",
       "17  204664871 2022-07-20 00:04:27  test 2024-03-06 11:37:21.608804"
      ]
     },
     "execution_count": 60,
     "metadata": {},
     "output_type": "execute_result"
    }
   ],
   "source": [
    "# Sample\n",
    "\n",
    "df_1[df_1['ClientID'].eq(204664871)]"
   ]
  },
  {
   "cell_type": "code",
   "execution_count": 66,
   "metadata": {
    "code_folding": [
     0
    ]
   },
   "outputs": [
    {
     "name": "stdout",
     "output_type": "stream",
     "text": [
      "Rows: 5364\n"
     ]
    },
    {
     "data": {
      "text/html": [
       "<div>\n",
       "<style scoped>\n",
       "    .dataframe tbody tr th:only-of-type {\n",
       "        vertical-align: middle;\n",
       "    }\n",
       "\n",
       "    .dataframe tbody tr th {\n",
       "        vertical-align: top;\n",
       "    }\n",
       "\n",
       "    .dataframe thead th {\n",
       "        text-align: right;\n",
       "    }\n",
       "</style>\n",
       "<table border=\"1\" class=\"dataframe\">\n",
       "  <thead>\n",
       "    <tr style=\"text-align: right;\">\n",
       "      <th></th>\n",
       "      <th>ClientID</th>\n",
       "      <th>EventTime</th>\n",
       "      <th>DonationType</th>\n",
       "      <th>AmountInUSD</th>\n",
       "    </tr>\n",
       "  </thead>\n",
       "  <tbody>\n",
       "    <tr>\n",
       "      <th>14</th>\n",
       "      <td>204664871</td>\n",
       "      <td>2022-07-20 00:03:50</td>\n",
       "      <td>one-time</td>\n",
       "      <td>200.0</td>\n",
       "    </tr>\n",
       "    <tr>\n",
       "      <th>21</th>\n",
       "      <td>480984859</td>\n",
       "      <td>2022-07-20 00:04:49</td>\n",
       "      <td>one-time</td>\n",
       "      <td>110.0</td>\n",
       "    </tr>\n",
       "    <tr>\n",
       "      <th>22</th>\n",
       "      <td>204664871</td>\n",
       "      <td>2022-07-20 00:05:01</td>\n",
       "      <td>one-time</td>\n",
       "      <td>28.0</td>\n",
       "    </tr>\n",
       "    <tr>\n",
       "      <th>36</th>\n",
       "      <td>162105910</td>\n",
       "      <td>2022-07-20 00:07:57</td>\n",
       "      <td>one-time</td>\n",
       "      <td>50.0</td>\n",
       "    </tr>\n",
       "    <tr>\n",
       "      <th>56</th>\n",
       "      <td>768115744</td>\n",
       "      <td>2022-07-20 00:11:06</td>\n",
       "      <td>one-time</td>\n",
       "      <td>10.0</td>\n",
       "    </tr>\n",
       "  </tbody>\n",
       "</table>\n",
       "</div>"
      ],
      "text/plain": [
       "     ClientID           EventTime DonationType  AmountInUSD\n",
       "14  204664871 2022-07-20 00:03:50     one-time        200.0\n",
       "21  480984859 2022-07-20 00:04:49     one-time        110.0\n",
       "22  204664871 2022-07-20 00:05:01     one-time         28.0\n",
       "36  162105910 2022-07-20 00:07:57     one-time         50.0\n",
       "56  768115744 2022-07-20 00:11:06     one-time         10.0"
      ]
     },
     "execution_count": 66,
     "metadata": {},
     "output_type": "execute_result"
    }
   ],
   "source": [
    "# Data transforming 2\n",
    "\n",
    "# Собираем все события 'charge'\n",
    "df_2 = df[df['EventType'].eq('charge')][['ClientID', 'EventTime', 'DonationType', 'AmountInUSD']]\n",
    "\n",
    "print(f'Rows: {df_2.shape[0]}')\n",
    "\n",
    "df_2.head()"
   ]
  },
  {
   "cell_type": "code",
   "execution_count": 67,
   "metadata": {},
   "outputs": [
    {
     "data": {
      "text/html": [
       "<div>\n",
       "<style scoped>\n",
       "    .dataframe tbody tr th:only-of-type {\n",
       "        vertical-align: middle;\n",
       "    }\n",
       "\n",
       "    .dataframe tbody tr th {\n",
       "        vertical-align: top;\n",
       "    }\n",
       "\n",
       "    .dataframe thead th {\n",
       "        text-align: right;\n",
       "    }\n",
       "</style>\n",
       "<table border=\"1\" class=\"dataframe\">\n",
       "  <thead>\n",
       "    <tr style=\"text-align: right;\">\n",
       "      <th></th>\n",
       "      <th>ClientID</th>\n",
       "      <th>EventTime</th>\n",
       "      <th>DonationType</th>\n",
       "      <th>AmountInUSD</th>\n",
       "    </tr>\n",
       "  </thead>\n",
       "  <tbody>\n",
       "    <tr>\n",
       "      <th>14</th>\n",
       "      <td>204664871</td>\n",
       "      <td>2022-07-20 00:03:50</td>\n",
       "      <td>one-time</td>\n",
       "      <td>200.0</td>\n",
       "    </tr>\n",
       "    <tr>\n",
       "      <th>22</th>\n",
       "      <td>204664871</td>\n",
       "      <td>2022-07-20 00:05:01</td>\n",
       "      <td>one-time</td>\n",
       "      <td>28.0</td>\n",
       "    </tr>\n",
       "  </tbody>\n",
       "</table>\n",
       "</div>"
      ],
      "text/plain": [
       "     ClientID           EventTime DonationType  AmountInUSD\n",
       "14  204664871 2022-07-20 00:03:50     one-time        200.0\n",
       "22  204664871 2022-07-20 00:05:01     one-time         28.0"
      ]
     },
     "execution_count": 67,
     "metadata": {},
     "output_type": "execute_result"
    }
   ],
   "source": [
    "# Sample\n",
    "\n",
    "df_2[df_2['ClientID'].eq(204664871)]"
   ]
  },
  {
   "cell_type": "code",
   "execution_count": 78,
   "metadata": {
    "code_folding": [
     0
    ]
   },
   "outputs": [
    {
     "name": "stdout",
     "output_type": "stream",
     "text": [
      "Rows: 5364\n"
     ]
    },
    {
     "data": {
      "text/html": [
       "<div>\n",
       "<style scoped>\n",
       "    .dataframe tbody tr th:only-of-type {\n",
       "        vertical-align: middle;\n",
       "    }\n",
       "\n",
       "    .dataframe tbody tr th {\n",
       "        vertical-align: top;\n",
       "    }\n",
       "\n",
       "    .dataframe thead th {\n",
       "        text-align: right;\n",
       "    }\n",
       "</style>\n",
       "<table border=\"1\" class=\"dataframe\">\n",
       "  <thead>\n",
       "    <tr style=\"text-align: right;\">\n",
       "      <th></th>\n",
       "      <th>ClientID</th>\n",
       "      <th>EventTime</th>\n",
       "      <th>tag</th>\n",
       "      <th>Next_EventTime</th>\n",
       "      <th>charge_EventTime</th>\n",
       "      <th>DonationType</th>\n",
       "      <th>AmountInUSD</th>\n",
       "    </tr>\n",
       "  </thead>\n",
       "  <tbody>\n",
       "    <tr>\n",
       "      <th>0</th>\n",
       "      <td>480984859</td>\n",
       "      <td>2022-07-20 00:00:58</td>\n",
       "      <td>control</td>\n",
       "      <td>2024-03-06 11:37:21.608804</td>\n",
       "      <td>2022-07-20 00:04:49</td>\n",
       "      <td>one-time</td>\n",
       "      <td>110.0</td>\n",
       "    </tr>\n",
       "    <tr>\n",
       "      <th>1</th>\n",
       "      <td>204664871</td>\n",
       "      <td>2022-07-20 00:01:00</td>\n",
       "      <td>test</td>\n",
       "      <td>2022-07-20 00:04:27.000000</td>\n",
       "      <td>2022-07-20 00:03:50</td>\n",
       "      <td>one-time</td>\n",
       "      <td>200.0</td>\n",
       "    </tr>\n",
       "    <tr>\n",
       "      <th>4</th>\n",
       "      <td>204664871</td>\n",
       "      <td>2022-07-20 00:04:27</td>\n",
       "      <td>test</td>\n",
       "      <td>2024-03-06 11:37:21.608804</td>\n",
       "      <td>2022-07-20 00:05:01</td>\n",
       "      <td>one-time</td>\n",
       "      <td>28.0</td>\n",
       "    </tr>\n",
       "    <tr>\n",
       "      <th>5</th>\n",
       "      <td>162105910</td>\n",
       "      <td>2022-07-20 00:04:06</td>\n",
       "      <td>control</td>\n",
       "      <td>2024-03-06 11:37:21.608804</td>\n",
       "      <td>2022-07-20 00:07:57</td>\n",
       "      <td>one-time</td>\n",
       "      <td>50.0</td>\n",
       "    </tr>\n",
       "    <tr>\n",
       "      <th>6</th>\n",
       "      <td>768115744</td>\n",
       "      <td>2022-07-20 00:08:16</td>\n",
       "      <td>test</td>\n",
       "      <td>2024-03-06 11:37:21.608804</td>\n",
       "      <td>2022-07-20 00:11:06</td>\n",
       "      <td>one-time</td>\n",
       "      <td>10.0</td>\n",
       "    </tr>\n",
       "  </tbody>\n",
       "</table>\n",
       "</div>"
      ],
      "text/plain": [
       "    ClientID           EventTime      tag             Next_EventTime  \\\n",
       "0  480984859 2022-07-20 00:00:58  control 2024-03-06 11:37:21.608804   \n",
       "1  204664871 2022-07-20 00:01:00     test 2022-07-20 00:04:27.000000   \n",
       "4  204664871 2022-07-20 00:04:27     test 2024-03-06 11:37:21.608804   \n",
       "5  162105910 2022-07-20 00:04:06  control 2024-03-06 11:37:21.608804   \n",
       "6  768115744 2022-07-20 00:08:16     test 2024-03-06 11:37:21.608804   \n",
       "\n",
       "     charge_EventTime DonationType  AmountInUSD  \n",
       "0 2022-07-20 00:04:49     one-time        110.0  \n",
       "1 2022-07-20 00:03:50     one-time        200.0  \n",
       "4 2022-07-20 00:05:01     one-time         28.0  \n",
       "5 2022-07-20 00:07:57     one-time         50.0  \n",
       "6 2022-07-20 00:11:06     one-time         10.0  "
      ]
     },
     "execution_count": 78,
     "metadata": {},
     "output_type": "execute_result"
    }
   ],
   "source": [
    "# Data transforming 3\n",
    "\n",
    "# Подтягиваем к каждому событию 'checkoutView' событие 'charge'\n",
    "df_3 = df_1.merge(\n",
    "                 df_2.rename(columns={'EventTime': 'charge_EventTime'})\n",
    "                ,on='ClientID'\n",
    "                ,how='inner'\n",
    "        )\n",
    "\n",
    "# Оставляем только те события 'charge', которые произошли между двумя соседними событиями 'checkoutView'\n",
    "df_3 = df_3[\n",
    "          (df_3['charge_EventTime'] > df_3['EventTime'])\n",
    "        & (df_3['charge_EventTime'] < df_3['Next_EventTime'])\n",
    "    ]\n",
    "\n",
    "print(f'Rows: {df_3.shape[0]}')\n",
    "\n",
    "df_3.head()"
   ]
  },
  {
   "cell_type": "code",
   "execution_count": 79,
   "metadata": {},
   "outputs": [
    {
     "data": {
      "text/html": [
       "<div>\n",
       "<style scoped>\n",
       "    .dataframe tbody tr th:only-of-type {\n",
       "        vertical-align: middle;\n",
       "    }\n",
       "\n",
       "    .dataframe tbody tr th {\n",
       "        vertical-align: top;\n",
       "    }\n",
       "\n",
       "    .dataframe thead th {\n",
       "        text-align: right;\n",
       "    }\n",
       "</style>\n",
       "<table border=\"1\" class=\"dataframe\">\n",
       "  <thead>\n",
       "    <tr style=\"text-align: right;\">\n",
       "      <th></th>\n",
       "      <th>ClientID</th>\n",
       "      <th>EventTime</th>\n",
       "      <th>tag</th>\n",
       "      <th>Next_EventTime</th>\n",
       "      <th>charge_EventTime</th>\n",
       "      <th>DonationType</th>\n",
       "      <th>AmountInUSD</th>\n",
       "    </tr>\n",
       "  </thead>\n",
       "  <tbody>\n",
       "    <tr>\n",
       "      <th>1</th>\n",
       "      <td>204664871</td>\n",
       "      <td>2022-07-20 00:01:00</td>\n",
       "      <td>test</td>\n",
       "      <td>2022-07-20 00:04:27.000000</td>\n",
       "      <td>2022-07-20 00:03:50</td>\n",
       "      <td>one-time</td>\n",
       "      <td>200.0</td>\n",
       "    </tr>\n",
       "    <tr>\n",
       "      <th>4</th>\n",
       "      <td>204664871</td>\n",
       "      <td>2022-07-20 00:04:27</td>\n",
       "      <td>test</td>\n",
       "      <td>2024-03-06 11:37:21.608804</td>\n",
       "      <td>2022-07-20 00:05:01</td>\n",
       "      <td>one-time</td>\n",
       "      <td>28.0</td>\n",
       "    </tr>\n",
       "  </tbody>\n",
       "</table>\n",
       "</div>"
      ],
      "text/plain": [
       "    ClientID           EventTime   tag             Next_EventTime  \\\n",
       "1  204664871 2022-07-20 00:01:00  test 2022-07-20 00:04:27.000000   \n",
       "4  204664871 2022-07-20 00:04:27  test 2024-03-06 11:37:21.608804   \n",
       "\n",
       "     charge_EventTime DonationType  AmountInUSD  \n",
       "1 2022-07-20 00:03:50     one-time        200.0  \n",
       "4 2022-07-20 00:05:01     one-time         28.0  "
      ]
     },
     "execution_count": 79,
     "metadata": {},
     "output_type": "execute_result"
    }
   ],
   "source": [
    "# Sample\n",
    "\n",
    "df_3[df_3['ClientID'].eq(204664871)]"
   ]
  },
  {
   "cell_type": "code",
   "execution_count": 84,
   "metadata": {
    "code_folding": [
     0
    ]
   },
   "outputs": [
    {
     "name": "stdout",
     "output_type": "stream",
     "text": [
      "Rows: 53406\n"
     ]
    },
    {
     "data": {
      "text/html": [
       "<div>\n",
       "<style scoped>\n",
       "    .dataframe tbody tr th:only-of-type {\n",
       "        vertical-align: middle;\n",
       "    }\n",
       "\n",
       "    .dataframe tbody tr th {\n",
       "        vertical-align: top;\n",
       "    }\n",
       "\n",
       "    .dataframe thead th {\n",
       "        text-align: right;\n",
       "    }\n",
       "</style>\n",
       "<table border=\"1\" class=\"dataframe\">\n",
       "  <thead>\n",
       "    <tr style=\"text-align: right;\">\n",
       "      <th></th>\n",
       "      <th>ClientID</th>\n",
       "      <th>EventTime</th>\n",
       "      <th>tag</th>\n",
       "      <th>charge_EventTime</th>\n",
       "      <th>DonationType</th>\n",
       "      <th>AmountInUSD</th>\n",
       "      <th>IsCharge</th>\n",
       "    </tr>\n",
       "  </thead>\n",
       "  <tbody>\n",
       "    <tr>\n",
       "      <th>0</th>\n",
       "      <td>885410877</td>\n",
       "      <td>2022-07-20 00:00:23</td>\n",
       "      <td>control</td>\n",
       "      <td>NaT</td>\n",
       "      <td>NaN</td>\n",
       "      <td>NaN</td>\n",
       "      <td>0</td>\n",
       "    </tr>\n",
       "    <tr>\n",
       "      <th>1</th>\n",
       "      <td>859319263</td>\n",
       "      <td>2022-07-20 00:00:48</td>\n",
       "      <td>test</td>\n",
       "      <td>NaT</td>\n",
       "      <td>NaN</td>\n",
       "      <td>NaN</td>\n",
       "      <td>0</td>\n",
       "    </tr>\n",
       "    <tr>\n",
       "      <th>2</th>\n",
       "      <td>480984859</td>\n",
       "      <td>2022-07-20 00:00:58</td>\n",
       "      <td>control</td>\n",
       "      <td>2022-07-20 00:04:49</td>\n",
       "      <td>one-time</td>\n",
       "      <td>110.0</td>\n",
       "      <td>1</td>\n",
       "    </tr>\n",
       "    <tr>\n",
       "      <th>3</th>\n",
       "      <td>204664871</td>\n",
       "      <td>2022-07-20 00:01:00</td>\n",
       "      <td>test</td>\n",
       "      <td>2022-07-20 00:03:50</td>\n",
       "      <td>one-time</td>\n",
       "      <td>200.0</td>\n",
       "      <td>1</td>\n",
       "    </tr>\n",
       "    <tr>\n",
       "      <th>4</th>\n",
       "      <td>859319263</td>\n",
       "      <td>2022-07-20 00:01:05</td>\n",
       "      <td>test</td>\n",
       "      <td>NaT</td>\n",
       "      <td>NaN</td>\n",
       "      <td>NaN</td>\n",
       "      <td>0</td>\n",
       "    </tr>\n",
       "  </tbody>\n",
       "</table>\n",
       "</div>"
      ],
      "text/plain": [
       "    ClientID           EventTime      tag    charge_EventTime DonationType  \\\n",
       "0  885410877 2022-07-20 00:00:23  control                 NaT          NaN   \n",
       "1  859319263 2022-07-20 00:00:48     test                 NaT          NaN   \n",
       "2  480984859 2022-07-20 00:00:58  control 2022-07-20 00:04:49     one-time   \n",
       "3  204664871 2022-07-20 00:01:00     test 2022-07-20 00:03:50     one-time   \n",
       "4  859319263 2022-07-20 00:01:05     test                 NaT          NaN   \n",
       "\n",
       "   AmountInUSD  IsCharge  \n",
       "0          NaN         0  \n",
       "1          NaN         0  \n",
       "2        110.0         1  \n",
       "3        200.0         1  \n",
       "4          NaN         0  "
      ]
     },
     "execution_count": 84,
     "metadata": {},
     "output_type": "execute_result"
    }
   ],
   "source": [
    "# Data transforming 4\n",
    "\n",
    "# Объединиям с теми событиями 'checkoutView', после которых не было события 'charge'\n",
    "df_corrected = df_1.merge(df_3, on=['ClientID', 'EventTime', 'Next_EventTime', 'tag'], how='left')\\\n",
    "                    [['ClientID', 'EventTime', 'tag', 'charge_EventTime', 'DonationType', 'AmountInUSD']]\n",
    "\n",
    "# Проставляем бинарный флаг\n",
    "df_corrected['IsCharge'] = (df_corrected['AmountInUSD'] > 0).astype(np.int8)\n",
    "\n",
    "print(f'Rows: {df_corrected.shape[0]}')\n",
    "\n",
    "df_corrected.head()"
   ]
  },
  {
   "cell_type": "code",
   "execution_count": 89,
   "metadata": {},
   "outputs": [],
   "source": [
    "# Features\n",
    "\n",
    "idx_col = 'ClientID'\n",
    "target = 'tag'\n",
    "num_cols = ['IsCharge', 'AmountInUSD']\n",
    "cat_col = 'DonationType'"
   ]
  },
  {
   "cell_type": "code",
   "execution_count": 124,
   "metadata": {
    "code_folding": [
     0
    ]
   },
   "outputs": [
    {
     "data": {
      "application/vnd.plotly.v1+json": {
       "config": {
        "plotlyServerURL": "https://plot.ly"
       },
       "data": [
        {
         "marker": {
          "color": [
           "#482878",
           "#b5de2b"
          ],
          "line": {
           "color": "black",
           "width": 0.8
          }
         },
         "opacity": 0.8,
         "orientation": "v",
         "text": [
          "50.1%",
          "49.9%"
         ],
         "textposition": "auto",
         "type": "bar",
         "x": [
          "control (#21152)",
          "test (#21109)"
         ],
         "y": [
          0.5005087432857718,
          0.4994912567142282
         ]
        }
       ],
       "layout": {
        "template": {
         "data": {
          "bar": [
           {
            "error_x": {
             "color": "#2a3f5f"
            },
            "error_y": {
             "color": "#2a3f5f"
            },
            "marker": {
             "line": {
              "color": "#E5ECF6",
              "width": 0.5
             },
             "pattern": {
              "fillmode": "overlay",
              "size": 10,
              "solidity": 0.2
             }
            },
            "type": "bar"
           }
          ],
          "barpolar": [
           {
            "marker": {
             "line": {
              "color": "#E5ECF6",
              "width": 0.5
             },
             "pattern": {
              "fillmode": "overlay",
              "size": 10,
              "solidity": 0.2
             }
            },
            "type": "barpolar"
           }
          ],
          "carpet": [
           {
            "aaxis": {
             "endlinecolor": "#2a3f5f",
             "gridcolor": "white",
             "linecolor": "white",
             "minorgridcolor": "white",
             "startlinecolor": "#2a3f5f"
            },
            "baxis": {
             "endlinecolor": "#2a3f5f",
             "gridcolor": "white",
             "linecolor": "white",
             "minorgridcolor": "white",
             "startlinecolor": "#2a3f5f"
            },
            "type": "carpet"
           }
          ],
          "choropleth": [
           {
            "colorbar": {
             "outlinewidth": 0,
             "ticks": ""
            },
            "type": "choropleth"
           }
          ],
          "contour": [
           {
            "colorbar": {
             "outlinewidth": 0,
             "ticks": ""
            },
            "colorscale": [
             [
              0,
              "#0d0887"
             ],
             [
              0.1111111111111111,
              "#46039f"
             ],
             [
              0.2222222222222222,
              "#7201a8"
             ],
             [
              0.3333333333333333,
              "#9c179e"
             ],
             [
              0.4444444444444444,
              "#bd3786"
             ],
             [
              0.5555555555555556,
              "#d8576b"
             ],
             [
              0.6666666666666666,
              "#ed7953"
             ],
             [
              0.7777777777777778,
              "#fb9f3a"
             ],
             [
              0.8888888888888888,
              "#fdca26"
             ],
             [
              1,
              "#f0f921"
             ]
            ],
            "type": "contour"
           }
          ],
          "contourcarpet": [
           {
            "colorbar": {
             "outlinewidth": 0,
             "ticks": ""
            },
            "type": "contourcarpet"
           }
          ],
          "heatmap": [
           {
            "colorbar": {
             "outlinewidth": 0,
             "ticks": ""
            },
            "colorscale": [
             [
              0,
              "#0d0887"
             ],
             [
              0.1111111111111111,
              "#46039f"
             ],
             [
              0.2222222222222222,
              "#7201a8"
             ],
             [
              0.3333333333333333,
              "#9c179e"
             ],
             [
              0.4444444444444444,
              "#bd3786"
             ],
             [
              0.5555555555555556,
              "#d8576b"
             ],
             [
              0.6666666666666666,
              "#ed7953"
             ],
             [
              0.7777777777777778,
              "#fb9f3a"
             ],
             [
              0.8888888888888888,
              "#fdca26"
             ],
             [
              1,
              "#f0f921"
             ]
            ],
            "type": "heatmap"
           }
          ],
          "heatmapgl": [
           {
            "colorbar": {
             "outlinewidth": 0,
             "ticks": ""
            },
            "colorscale": [
             [
              0,
              "#0d0887"
             ],
             [
              0.1111111111111111,
              "#46039f"
             ],
             [
              0.2222222222222222,
              "#7201a8"
             ],
             [
              0.3333333333333333,
              "#9c179e"
             ],
             [
              0.4444444444444444,
              "#bd3786"
             ],
             [
              0.5555555555555556,
              "#d8576b"
             ],
             [
              0.6666666666666666,
              "#ed7953"
             ],
             [
              0.7777777777777778,
              "#fb9f3a"
             ],
             [
              0.8888888888888888,
              "#fdca26"
             ],
             [
              1,
              "#f0f921"
             ]
            ],
            "type": "heatmapgl"
           }
          ],
          "histogram": [
           {
            "marker": {
             "pattern": {
              "fillmode": "overlay",
              "size": 10,
              "solidity": 0.2
             }
            },
            "type": "histogram"
           }
          ],
          "histogram2d": [
           {
            "colorbar": {
             "outlinewidth": 0,
             "ticks": ""
            },
            "colorscale": [
             [
              0,
              "#0d0887"
             ],
             [
              0.1111111111111111,
              "#46039f"
             ],
             [
              0.2222222222222222,
              "#7201a8"
             ],
             [
              0.3333333333333333,
              "#9c179e"
             ],
             [
              0.4444444444444444,
              "#bd3786"
             ],
             [
              0.5555555555555556,
              "#d8576b"
             ],
             [
              0.6666666666666666,
              "#ed7953"
             ],
             [
              0.7777777777777778,
              "#fb9f3a"
             ],
             [
              0.8888888888888888,
              "#fdca26"
             ],
             [
              1,
              "#f0f921"
             ]
            ],
            "type": "histogram2d"
           }
          ],
          "histogram2dcontour": [
           {
            "colorbar": {
             "outlinewidth": 0,
             "ticks": ""
            },
            "colorscale": [
             [
              0,
              "#0d0887"
             ],
             [
              0.1111111111111111,
              "#46039f"
             ],
             [
              0.2222222222222222,
              "#7201a8"
             ],
             [
              0.3333333333333333,
              "#9c179e"
             ],
             [
              0.4444444444444444,
              "#bd3786"
             ],
             [
              0.5555555555555556,
              "#d8576b"
             ],
             [
              0.6666666666666666,
              "#ed7953"
             ],
             [
              0.7777777777777778,
              "#fb9f3a"
             ],
             [
              0.8888888888888888,
              "#fdca26"
             ],
             [
              1,
              "#f0f921"
             ]
            ],
            "type": "histogram2dcontour"
           }
          ],
          "mesh3d": [
           {
            "colorbar": {
             "outlinewidth": 0,
             "ticks": ""
            },
            "type": "mesh3d"
           }
          ],
          "parcoords": [
           {
            "line": {
             "colorbar": {
              "outlinewidth": 0,
              "ticks": ""
             }
            },
            "type": "parcoords"
           }
          ],
          "pie": [
           {
            "automargin": true,
            "type": "pie"
           }
          ],
          "scatter": [
           {
            "marker": {
             "colorbar": {
              "outlinewidth": 0,
              "ticks": ""
             }
            },
            "type": "scatter"
           }
          ],
          "scatter3d": [
           {
            "line": {
             "colorbar": {
              "outlinewidth": 0,
              "ticks": ""
             }
            },
            "marker": {
             "colorbar": {
              "outlinewidth": 0,
              "ticks": ""
             }
            },
            "type": "scatter3d"
           }
          ],
          "scattercarpet": [
           {
            "marker": {
             "colorbar": {
              "outlinewidth": 0,
              "ticks": ""
             }
            },
            "type": "scattercarpet"
           }
          ],
          "scattergeo": [
           {
            "marker": {
             "colorbar": {
              "outlinewidth": 0,
              "ticks": ""
             }
            },
            "type": "scattergeo"
           }
          ],
          "scattergl": [
           {
            "marker": {
             "colorbar": {
              "outlinewidth": 0,
              "ticks": ""
             }
            },
            "type": "scattergl"
           }
          ],
          "scattermapbox": [
           {
            "marker": {
             "colorbar": {
              "outlinewidth": 0,
              "ticks": ""
             }
            },
            "type": "scattermapbox"
           }
          ],
          "scatterpolar": [
           {
            "marker": {
             "colorbar": {
              "outlinewidth": 0,
              "ticks": ""
             }
            },
            "type": "scatterpolar"
           }
          ],
          "scatterpolargl": [
           {
            "marker": {
             "colorbar": {
              "outlinewidth": 0,
              "ticks": ""
             }
            },
            "type": "scatterpolargl"
           }
          ],
          "scatterternary": [
           {
            "marker": {
             "colorbar": {
              "outlinewidth": 0,
              "ticks": ""
             }
            },
            "type": "scatterternary"
           }
          ],
          "surface": [
           {
            "colorbar": {
             "outlinewidth": 0,
             "ticks": ""
            },
            "colorscale": [
             [
              0,
              "#0d0887"
             ],
             [
              0.1111111111111111,
              "#46039f"
             ],
             [
              0.2222222222222222,
              "#7201a8"
             ],
             [
              0.3333333333333333,
              "#9c179e"
             ],
             [
              0.4444444444444444,
              "#bd3786"
             ],
             [
              0.5555555555555556,
              "#d8576b"
             ],
             [
              0.6666666666666666,
              "#ed7953"
             ],
             [
              0.7777777777777778,
              "#fb9f3a"
             ],
             [
              0.8888888888888888,
              "#fdca26"
             ],
             [
              1,
              "#f0f921"
             ]
            ],
            "type": "surface"
           }
          ],
          "table": [
           {
            "cells": {
             "fill": {
              "color": "#EBF0F8"
             },
             "line": {
              "color": "white"
             }
            },
            "header": {
             "fill": {
              "color": "#C8D4E3"
             },
             "line": {
              "color": "white"
             }
            },
            "type": "table"
           }
          ]
         },
         "layout": {
          "annotationdefaults": {
           "arrowcolor": "#2a3f5f",
           "arrowhead": 0,
           "arrowwidth": 1
          },
          "autotypenumbers": "strict",
          "coloraxis": {
           "colorbar": {
            "outlinewidth": 0,
            "ticks": ""
           }
          },
          "colorscale": {
           "diverging": [
            [
             0,
             "#8e0152"
            ],
            [
             0.1,
             "#c51b7d"
            ],
            [
             0.2,
             "#de77ae"
            ],
            [
             0.3,
             "#f1b6da"
            ],
            [
             0.4,
             "#fde0ef"
            ],
            [
             0.5,
             "#f7f7f7"
            ],
            [
             0.6,
             "#e6f5d0"
            ],
            [
             0.7,
             "#b8e186"
            ],
            [
             0.8,
             "#7fbc41"
            ],
            [
             0.9,
             "#4d9221"
            ],
            [
             1,
             "#276419"
            ]
           ],
           "sequential": [
            [
             0,
             "#0d0887"
            ],
            [
             0.1111111111111111,
             "#46039f"
            ],
            [
             0.2222222222222222,
             "#7201a8"
            ],
            [
             0.3333333333333333,
             "#9c179e"
            ],
            [
             0.4444444444444444,
             "#bd3786"
            ],
            [
             0.5555555555555556,
             "#d8576b"
            ],
            [
             0.6666666666666666,
             "#ed7953"
            ],
            [
             0.7777777777777778,
             "#fb9f3a"
            ],
            [
             0.8888888888888888,
             "#fdca26"
            ],
            [
             1,
             "#f0f921"
            ]
           ],
           "sequentialminus": [
            [
             0,
             "#0d0887"
            ],
            [
             0.1111111111111111,
             "#46039f"
            ],
            [
             0.2222222222222222,
             "#7201a8"
            ],
            [
             0.3333333333333333,
             "#9c179e"
            ],
            [
             0.4444444444444444,
             "#bd3786"
            ],
            [
             0.5555555555555556,
             "#d8576b"
            ],
            [
             0.6666666666666666,
             "#ed7953"
            ],
            [
             0.7777777777777778,
             "#fb9f3a"
            ],
            [
             0.8888888888888888,
             "#fdca26"
            ],
            [
             1,
             "#f0f921"
            ]
           ]
          },
          "colorway": [
           "#636efa",
           "#EF553B",
           "#00cc96",
           "#ab63fa",
           "#FFA15A",
           "#19d3f3",
           "#FF6692",
           "#B6E880",
           "#FF97FF",
           "#FECB52"
          ],
          "font": {
           "color": "#2a3f5f"
          },
          "geo": {
           "bgcolor": "white",
           "lakecolor": "white",
           "landcolor": "#E5ECF6",
           "showlakes": true,
           "showland": true,
           "subunitcolor": "white"
          },
          "hoverlabel": {
           "align": "left"
          },
          "hovermode": "closest",
          "mapbox": {
           "style": "light"
          },
          "paper_bgcolor": "white",
          "plot_bgcolor": "#E5ECF6",
          "polar": {
           "angularaxis": {
            "gridcolor": "white",
            "linecolor": "white",
            "ticks": ""
           },
           "bgcolor": "#E5ECF6",
           "radialaxis": {
            "gridcolor": "white",
            "linecolor": "white",
            "ticks": ""
           }
          },
          "scene": {
           "xaxis": {
            "backgroundcolor": "#E5ECF6",
            "gridcolor": "white",
            "gridwidth": 2,
            "linecolor": "white",
            "showbackground": true,
            "ticks": "",
            "zerolinecolor": "white"
           },
           "yaxis": {
            "backgroundcolor": "#E5ECF6",
            "gridcolor": "white",
            "gridwidth": 2,
            "linecolor": "white",
            "showbackground": true,
            "ticks": "",
            "zerolinecolor": "white"
           },
           "zaxis": {
            "backgroundcolor": "#E5ECF6",
            "gridcolor": "white",
            "gridwidth": 2,
            "linecolor": "white",
            "showbackground": true,
            "ticks": "",
            "zerolinecolor": "white"
           }
          },
          "shapedefaults": {
           "line": {
            "color": "#2a3f5f"
           }
          },
          "ternary": {
           "aaxis": {
            "gridcolor": "white",
            "linecolor": "white",
            "ticks": ""
           },
           "baxis": {
            "gridcolor": "white",
            "linecolor": "white",
            "ticks": ""
           },
           "bgcolor": "#E5ECF6",
           "caxis": {
            "gridcolor": "white",
            "linecolor": "white",
            "ticks": ""
           }
          },
          "title": {
           "x": 0.05
          },
          "xaxis": {
           "automargin": true,
           "gridcolor": "white",
           "linecolor": "white",
           "ticks": "",
           "title": {
            "standoff": 15
           },
           "zerolinecolor": "white",
           "zerolinewidth": 2
          },
          "yaxis": {
           "automargin": true,
           "gridcolor": "white",
           "linecolor": "white",
           "ticks": "",
           "title": {
            "standoff": 15
           },
           "zerolinecolor": "white",
           "zerolinewidth": 2
          }
         }
        },
        "title": {
         "text": "Количество клиентов по группам",
         "x": 0.5
        }
       }
      },
      "text/html": [
       "<div>                            <div id=\"0731c637-4e49-4059-b288-0ef251c7f0fc\" class=\"plotly-graph-div\" style=\"height:525px; width:100%;\"></div>            <script type=\"text/javascript\">                require([\"plotly\"], function(Plotly) {                    window.PLOTLYENV=window.PLOTLYENV || {};                                    if (document.getElementById(\"0731c637-4e49-4059-b288-0ef251c7f0fc\")) {                    Plotly.newPlot(                        \"0731c637-4e49-4059-b288-0ef251c7f0fc\",                        [{\"marker\":{\"color\":[\"#482878\",\"#b5de2b\"],\"line\":{\"color\":\"black\",\"width\":0.8}},\"opacity\":0.8,\"orientation\":\"v\",\"text\":[\"50.1%\",\"49.9%\"],\"textposition\":\"auto\",\"type\":\"bar\",\"x\":[\"control (#21152)\",\"test (#21109)\"],\"y\":[0.5005087432857718,0.4994912567142282]}],                        {\"template\":{\"data\":{\"bar\":[{\"error_x\":{\"color\":\"#2a3f5f\"},\"error_y\":{\"color\":\"#2a3f5f\"},\"marker\":{\"line\":{\"color\":\"#E5ECF6\",\"width\":0.5},\"pattern\":{\"fillmode\":\"overlay\",\"size\":10,\"solidity\":0.2}},\"type\":\"bar\"}],\"barpolar\":[{\"marker\":{\"line\":{\"color\":\"#E5ECF6\",\"width\":0.5},\"pattern\":{\"fillmode\":\"overlay\",\"size\":10,\"solidity\":0.2}},\"type\":\"barpolar\"}],\"carpet\":[{\"aaxis\":{\"endlinecolor\":\"#2a3f5f\",\"gridcolor\":\"white\",\"linecolor\":\"white\",\"minorgridcolor\":\"white\",\"startlinecolor\":\"#2a3f5f\"},\"baxis\":{\"endlinecolor\":\"#2a3f5f\",\"gridcolor\":\"white\",\"linecolor\":\"white\",\"minorgridcolor\":\"white\",\"startlinecolor\":\"#2a3f5f\"},\"type\":\"carpet\"}],\"choropleth\":[{\"colorbar\":{\"outlinewidth\":0,\"ticks\":\"\"},\"type\":\"choropleth\"}],\"contour\":[{\"colorbar\":{\"outlinewidth\":0,\"ticks\":\"\"},\"colorscale\":[[0.0,\"#0d0887\"],[0.1111111111111111,\"#46039f\"],[0.2222222222222222,\"#7201a8\"],[0.3333333333333333,\"#9c179e\"],[0.4444444444444444,\"#bd3786\"],[0.5555555555555556,\"#d8576b\"],[0.6666666666666666,\"#ed7953\"],[0.7777777777777778,\"#fb9f3a\"],[0.8888888888888888,\"#fdca26\"],[1.0,\"#f0f921\"]],\"type\":\"contour\"}],\"contourcarpet\":[{\"colorbar\":{\"outlinewidth\":0,\"ticks\":\"\"},\"type\":\"contourcarpet\"}],\"heatmap\":[{\"colorbar\":{\"outlinewidth\":0,\"ticks\":\"\"},\"colorscale\":[[0.0,\"#0d0887\"],[0.1111111111111111,\"#46039f\"],[0.2222222222222222,\"#7201a8\"],[0.3333333333333333,\"#9c179e\"],[0.4444444444444444,\"#bd3786\"],[0.5555555555555556,\"#d8576b\"],[0.6666666666666666,\"#ed7953\"],[0.7777777777777778,\"#fb9f3a\"],[0.8888888888888888,\"#fdca26\"],[1.0,\"#f0f921\"]],\"type\":\"heatmap\"}],\"heatmapgl\":[{\"colorbar\":{\"outlinewidth\":0,\"ticks\":\"\"},\"colorscale\":[[0.0,\"#0d0887\"],[0.1111111111111111,\"#46039f\"],[0.2222222222222222,\"#7201a8\"],[0.3333333333333333,\"#9c179e\"],[0.4444444444444444,\"#bd3786\"],[0.5555555555555556,\"#d8576b\"],[0.6666666666666666,\"#ed7953\"],[0.7777777777777778,\"#fb9f3a\"],[0.8888888888888888,\"#fdca26\"],[1.0,\"#f0f921\"]],\"type\":\"heatmapgl\"}],\"histogram\":[{\"marker\":{\"pattern\":{\"fillmode\":\"overlay\",\"size\":10,\"solidity\":0.2}},\"type\":\"histogram\"}],\"histogram2d\":[{\"colorbar\":{\"outlinewidth\":0,\"ticks\":\"\"},\"colorscale\":[[0.0,\"#0d0887\"],[0.1111111111111111,\"#46039f\"],[0.2222222222222222,\"#7201a8\"],[0.3333333333333333,\"#9c179e\"],[0.4444444444444444,\"#bd3786\"],[0.5555555555555556,\"#d8576b\"],[0.6666666666666666,\"#ed7953\"],[0.7777777777777778,\"#fb9f3a\"],[0.8888888888888888,\"#fdca26\"],[1.0,\"#f0f921\"]],\"type\":\"histogram2d\"}],\"histogram2dcontour\":[{\"colorbar\":{\"outlinewidth\":0,\"ticks\":\"\"},\"colorscale\":[[0.0,\"#0d0887\"],[0.1111111111111111,\"#46039f\"],[0.2222222222222222,\"#7201a8\"],[0.3333333333333333,\"#9c179e\"],[0.4444444444444444,\"#bd3786\"],[0.5555555555555556,\"#d8576b\"],[0.6666666666666666,\"#ed7953\"],[0.7777777777777778,\"#fb9f3a\"],[0.8888888888888888,\"#fdca26\"],[1.0,\"#f0f921\"]],\"type\":\"histogram2dcontour\"}],\"mesh3d\":[{\"colorbar\":{\"outlinewidth\":0,\"ticks\":\"\"},\"type\":\"mesh3d\"}],\"parcoords\":[{\"line\":{\"colorbar\":{\"outlinewidth\":0,\"ticks\":\"\"}},\"type\":\"parcoords\"}],\"pie\":[{\"automargin\":true,\"type\":\"pie\"}],\"scatter\":[{\"marker\":{\"colorbar\":{\"outlinewidth\":0,\"ticks\":\"\"}},\"type\":\"scatter\"}],\"scatter3d\":[{\"line\":{\"colorbar\":{\"outlinewidth\":0,\"ticks\":\"\"}},\"marker\":{\"colorbar\":{\"outlinewidth\":0,\"ticks\":\"\"}},\"type\":\"scatter3d\"}],\"scattercarpet\":[{\"marker\":{\"colorbar\":{\"outlinewidth\":0,\"ticks\":\"\"}},\"type\":\"scattercarpet\"}],\"scattergeo\":[{\"marker\":{\"colorbar\":{\"outlinewidth\":0,\"ticks\":\"\"}},\"type\":\"scattergeo\"}],\"scattergl\":[{\"marker\":{\"colorbar\":{\"outlinewidth\":0,\"ticks\":\"\"}},\"type\":\"scattergl\"}],\"scattermapbox\":[{\"marker\":{\"colorbar\":{\"outlinewidth\":0,\"ticks\":\"\"}},\"type\":\"scattermapbox\"}],\"scatterpolar\":[{\"marker\":{\"colorbar\":{\"outlinewidth\":0,\"ticks\":\"\"}},\"type\":\"scatterpolar\"}],\"scatterpolargl\":[{\"marker\":{\"colorbar\":{\"outlinewidth\":0,\"ticks\":\"\"}},\"type\":\"scatterpolargl\"}],\"scatterternary\":[{\"marker\":{\"colorbar\":{\"outlinewidth\":0,\"ticks\":\"\"}},\"type\":\"scatterternary\"}],\"surface\":[{\"colorbar\":{\"outlinewidth\":0,\"ticks\":\"\"},\"colorscale\":[[0.0,\"#0d0887\"],[0.1111111111111111,\"#46039f\"],[0.2222222222222222,\"#7201a8\"],[0.3333333333333333,\"#9c179e\"],[0.4444444444444444,\"#bd3786\"],[0.5555555555555556,\"#d8576b\"],[0.6666666666666666,\"#ed7953\"],[0.7777777777777778,\"#fb9f3a\"],[0.8888888888888888,\"#fdca26\"],[1.0,\"#f0f921\"]],\"type\":\"surface\"}],\"table\":[{\"cells\":{\"fill\":{\"color\":\"#EBF0F8\"},\"line\":{\"color\":\"white\"}},\"header\":{\"fill\":{\"color\":\"#C8D4E3\"},\"line\":{\"color\":\"white\"}},\"type\":\"table\"}]},\"layout\":{\"annotationdefaults\":{\"arrowcolor\":\"#2a3f5f\",\"arrowhead\":0,\"arrowwidth\":1},\"autotypenumbers\":\"strict\",\"coloraxis\":{\"colorbar\":{\"outlinewidth\":0,\"ticks\":\"\"}},\"colorscale\":{\"diverging\":[[0,\"#8e0152\"],[0.1,\"#c51b7d\"],[0.2,\"#de77ae\"],[0.3,\"#f1b6da\"],[0.4,\"#fde0ef\"],[0.5,\"#f7f7f7\"],[0.6,\"#e6f5d0\"],[0.7,\"#b8e186\"],[0.8,\"#7fbc41\"],[0.9,\"#4d9221\"],[1,\"#276419\"]],\"sequential\":[[0.0,\"#0d0887\"],[0.1111111111111111,\"#46039f\"],[0.2222222222222222,\"#7201a8\"],[0.3333333333333333,\"#9c179e\"],[0.4444444444444444,\"#bd3786\"],[0.5555555555555556,\"#d8576b\"],[0.6666666666666666,\"#ed7953\"],[0.7777777777777778,\"#fb9f3a\"],[0.8888888888888888,\"#fdca26\"],[1.0,\"#f0f921\"]],\"sequentialminus\":[[0.0,\"#0d0887\"],[0.1111111111111111,\"#46039f\"],[0.2222222222222222,\"#7201a8\"],[0.3333333333333333,\"#9c179e\"],[0.4444444444444444,\"#bd3786\"],[0.5555555555555556,\"#d8576b\"],[0.6666666666666666,\"#ed7953\"],[0.7777777777777778,\"#fb9f3a\"],[0.8888888888888888,\"#fdca26\"],[1.0,\"#f0f921\"]]},\"colorway\":[\"#636efa\",\"#EF553B\",\"#00cc96\",\"#ab63fa\",\"#FFA15A\",\"#19d3f3\",\"#FF6692\",\"#B6E880\",\"#FF97FF\",\"#FECB52\"],\"font\":{\"color\":\"#2a3f5f\"},\"geo\":{\"bgcolor\":\"white\",\"lakecolor\":\"white\",\"landcolor\":\"#E5ECF6\",\"showlakes\":true,\"showland\":true,\"subunitcolor\":\"white\"},\"hoverlabel\":{\"align\":\"left\"},\"hovermode\":\"closest\",\"mapbox\":{\"style\":\"light\"},\"paper_bgcolor\":\"white\",\"plot_bgcolor\":\"#E5ECF6\",\"polar\":{\"angularaxis\":{\"gridcolor\":\"white\",\"linecolor\":\"white\",\"ticks\":\"\"},\"bgcolor\":\"#E5ECF6\",\"radialaxis\":{\"gridcolor\":\"white\",\"linecolor\":\"white\",\"ticks\":\"\"}},\"scene\":{\"xaxis\":{\"backgroundcolor\":\"#E5ECF6\",\"gridcolor\":\"white\",\"gridwidth\":2,\"linecolor\":\"white\",\"showbackground\":true,\"ticks\":\"\",\"zerolinecolor\":\"white\"},\"yaxis\":{\"backgroundcolor\":\"#E5ECF6\",\"gridcolor\":\"white\",\"gridwidth\":2,\"linecolor\":\"white\",\"showbackground\":true,\"ticks\":\"\",\"zerolinecolor\":\"white\"},\"zaxis\":{\"backgroundcolor\":\"#E5ECF6\",\"gridcolor\":\"white\",\"gridwidth\":2,\"linecolor\":\"white\",\"showbackground\":true,\"ticks\":\"\",\"zerolinecolor\":\"white\"}},\"shapedefaults\":{\"line\":{\"color\":\"#2a3f5f\"}},\"ternary\":{\"aaxis\":{\"gridcolor\":\"white\",\"linecolor\":\"white\",\"ticks\":\"\"},\"baxis\":{\"gridcolor\":\"white\",\"linecolor\":\"white\",\"ticks\":\"\"},\"bgcolor\":\"#E5ECF6\",\"caxis\":{\"gridcolor\":\"white\",\"linecolor\":\"white\",\"ticks\":\"\"}},\"title\":{\"x\":0.05},\"xaxis\":{\"automargin\":true,\"gridcolor\":\"white\",\"linecolor\":\"white\",\"ticks\":\"\",\"title\":{\"standoff\":15},\"zerolinecolor\":\"white\",\"zerolinewidth\":2},\"yaxis\":{\"automargin\":true,\"gridcolor\":\"white\",\"linecolor\":\"white\",\"ticks\":\"\",\"title\":{\"standoff\":15},\"zerolinecolor\":\"white\",\"zerolinewidth\":2}}},\"title\":{\"text\":\"\\u041a\\u043e\\u043b\\u0438\\u0447\\u0435\\u0441\\u0442\\u0432\\u043e \\u043a\\u043b\\u0438\\u0435\\u043d\\u0442\\u043e\\u0432 \\u043f\\u043e \\u0433\\u0440\\u0443\\u043f\\u043f\\u0430\\u043c\",\"x\":0.5}},                        {\"responsive\": true}                    ).then(function(){\n",
       "                            \n",
       "var gd = document.getElementById('0731c637-4e49-4059-b288-0ef251c7f0fc');\n",
       "var x = new MutationObserver(function (mutations, observer) {{\n",
       "        var display = window.getComputedStyle(gd).display;\n",
       "        if (!display || display === 'none') {{\n",
       "            console.log([gd, 'removed!']);\n",
       "            Plotly.purge(gd);\n",
       "            observer.disconnect();\n",
       "        }}\n",
       "}});\n",
       "\n",
       "// Listen for the removal of the full notebook cells\n",
       "var notebookContainer = gd.closest('#notebook-container');\n",
       "if (notebookContainer) {{\n",
       "    x.observe(notebookContainer, {childList: true});\n",
       "}}\n",
       "\n",
       "// Listen for the clearing of the current output cell\n",
       "var outputEl = gd.closest('.output');\n",
       "if (outputEl) {{\n",
       "    x.observe(outputEl, {childList: true});\n",
       "}}\n",
       "\n",
       "                        })                };                });            </script>        </div>"
      ]
     },
     "metadata": {},
     "output_type": "display_data"
    }
   ],
   "source": [
    "# Visualization\n",
    "\n",
    "paper = go.Figure()\n",
    " \n",
    "palette_1 = px.colors.sequential.Viridis_r[1:]\n",
    "palette_2 = px.colors.sequential.Viridis[1:]\n",
    "\n",
    "data = df_corrected[[idx_col, target]].drop_duplicates()[target].value_counts(normalize=True)\n",
    "freq = df_corrected[[idx_col, target]].drop_duplicates()[target].value_counts()\n",
    "cat_freq = {name: f'{name} (#{freq[name]})' for name in freq.index}\n",
    "\n",
    "max_ratio = data.values.max()\n",
    "    \n",
    "colors = [palette_1[0]] * data.shape[0]\n",
    "colors[np.where(data == max_ratio)[0][0]] = palette_2[0]\n",
    "\n",
    "paper.add_trace(\n",
    "            go.Bar(\n",
    "                 x=data.index.map(cat_freq)\n",
    "                ,y=data.values\n",
    "                ,text=data.apply(lambda x: f'{x:.1%}')\n",
    "                ,textposition='auto'\n",
    "                ,orientation='v'\n",
    "                ,marker_color=colors\n",
    "                ,marker_line_color='black'\n",
    "                ,marker_line_width=.8\n",
    "                ,opacity=.8\n",
    "            )\n",
    ")\n",
    "    \n",
    "paper.update_layout(title={'text': f'Количество клиентов по группам'}, title_x=0.5)\n",
    "\n",
    "# paper.write_html('количество_клиентов_по_группам.html')\n",
    "\n",
    "paper.show()"
   ]
  },
  {
   "cell_type": "markdown",
   "metadata": {},
   "source": [
    "____\n",
    "__Наблюдение:__ Группы распределены равномерно по количеству клиентов.\n",
    "____"
   ]
  },
  {
   "cell_type": "markdown",
   "metadata": {},
   "source": [
    "<div class=\"alert alert-warning\">\n",
    "Предлагаю рассмотреть следующие метрики:\n",
    "    \n",
    "* Конверсия из просмотра в донат. Эту метрику можно считать целевой для данного AB-теста. Имеет смысл рассмотреть ее отдельно в контекте разовых пожертвований (это то, на что было непосредственно направлено изменение) и в контексте всех пожертований;\n",
    "* Средний размер доната. Отсутствие предварительного выбора суммы доната может снизить эту метрику в независимости от конверсии. Имеет смысл также рассмотреть в контекте разовых пожертвований и в контексте всех пожертований;\n",
    "* Доля разовых пожертований среди всех пожертований. Внедренное изменение может оказать влияние соотношение разовых пожертвований и месячных пожертвований (а может и не оказать).\n",
    "</div>"
   ]
  },
  {
   "cell_type": "code",
   "execution_count": 148,
   "metadata": {},
   "outputs": [],
   "source": [
    "metrics = [\n",
    "         'КонверсияИзПросмотраВДонат(ДляРазовыхПожертвований)'\n",
    "        ,'КонверсияИзПросмотраВДонат(ДляВсехПожертвований)'\n",
    "        ,'СредняяСуммаДоната(ДляРазовыхПожертвований)'\n",
    "        ,'СредняяСуммаДоната(ДляВсехПожертвований)'\n",
    "        ,'ДоляРазовыхПожертвований'\n",
    "]"
   ]
  },
  {
   "cell_type": "code",
   "execution_count": 149,
   "metadata": {
    "code_folding": [
     0
    ]
   },
   "outputs": [
    {
     "data": {
      "text/html": [
       "<div>\n",
       "<style scoped>\n",
       "    .dataframe tbody tr th:only-of-type {\n",
       "        vertical-align: middle;\n",
       "    }\n",
       "\n",
       "    .dataframe tbody tr th {\n",
       "        vertical-align: top;\n",
       "    }\n",
       "\n",
       "    .dataframe thead th {\n",
       "        text-align: right;\n",
       "    }\n",
       "</style>\n",
       "<table border=\"1\" class=\"dataframe\">\n",
       "  <thead>\n",
       "    <tr style=\"text-align: right;\">\n",
       "      <th>DonationType</th>\n",
       "      <th>tag</th>\n",
       "      <th>Nominator</th>\n",
       "      <th>Denominator</th>\n",
       "      <th>Extra</th>\n",
       "      <th>Metric</th>\n",
       "    </tr>\n",
       "  </thead>\n",
       "  <tbody>\n",
       "    <tr>\n",
       "      <th>0</th>\n",
       "      <td>control</td>\n",
       "      <td>2484.000000</td>\n",
       "      <td>26538</td>\n",
       "      <td>None</td>\n",
       "      <td>КонверсияИзПросмотраВДонат(ДляРазовыхПожертвов...</td>\n",
       "    </tr>\n",
       "    <tr>\n",
       "      <th>1</th>\n",
       "      <td>test</td>\n",
       "      <td>2705.000000</td>\n",
       "      <td>26693</td>\n",
       "      <td>None</td>\n",
       "      <td>КонверсияИзПросмотраВДонат(ДляРазовыхПожертвов...</td>\n",
       "    </tr>\n",
       "    <tr>\n",
       "      <th>2</th>\n",
       "      <td>control</td>\n",
       "      <td>2588.000000</td>\n",
       "      <td>26642</td>\n",
       "      <td>None</td>\n",
       "      <td>КонверсияИзПросмотраВДонат(ДляВсехПожертвований)</td>\n",
       "    </tr>\n",
       "    <tr>\n",
       "      <th>3</th>\n",
       "      <td>test</td>\n",
       "      <td>2776.000000</td>\n",
       "      <td>26764</td>\n",
       "      <td>None</td>\n",
       "      <td>КонверсияИзПросмотраВДонат(ДляВсехПожертвований)</td>\n",
       "    </tr>\n",
       "    <tr>\n",
       "      <th>4</th>\n",
       "      <td>control</td>\n",
       "      <td>80.137681</td>\n",
       "      <td>1</td>\n",
       "      <td>[nan, 110.0, nan, nan, nan, nan, 50.0, nan, na...</td>\n",
       "      <td>СредняяСуммаДоната(ДляРазовыхПожертвований)</td>\n",
       "    </tr>\n",
       "  </tbody>\n",
       "</table>\n",
       "</div>"
      ],
      "text/plain": [
       "DonationType      tag    Nominator  Denominator  \\\n",
       "0             control  2484.000000        26538   \n",
       "1                test  2705.000000        26693   \n",
       "2             control  2588.000000        26642   \n",
       "3                test  2776.000000        26764   \n",
       "4             control    80.137681            1   \n",
       "\n",
       "DonationType                                              Extra  \\\n",
       "0                                                          None   \n",
       "1                                                          None   \n",
       "2                                                          None   \n",
       "3                                                          None   \n",
       "4             [nan, 110.0, nan, nan, nan, nan, 50.0, nan, na...   \n",
       "\n",
       "DonationType                                             Metric  \n",
       "0             КонверсияИзПросмотраВДонат(ДляРазовыхПожертвов...  \n",
       "1             КонверсияИзПросмотраВДонат(ДляРазовыхПожертвов...  \n",
       "2              КонверсияИзПросмотраВДонат(ДляВсехПожертвований)  \n",
       "3              КонверсияИзПросмотраВДонат(ДляВсехПожертвований)  \n",
       "4                   СредняяСуммаДоната(ДляРазовыхПожертвований)  "
      ]
     },
     "execution_count": 149,
     "metadata": {},
     "output_type": "execute_result"
    }
   ],
   "source": [
    "# Metrics calculation\n",
    "\n",
    "df_agg = pd.concat(\n",
    "                [\n",
    "                 df_corrected[df_corrected[cat_col].eq('one-time') | df_corrected[cat_col].isnull()]\\\n",
    "                    .groupby(target)[num_cols[0]].agg(['sum', 'count']).reset_index()\\\n",
    "                    .rename(columns={'sum': 'Nominator', 'count': 'Denominator'}).assign(Extra=None)\\\n",
    "                    .assign(Metric=metrics[0])\n",
    "                    \n",
    "                ,df_corrected\\\n",
    "                    .groupby(target)[num_cols[0]].agg(['sum', 'count']).reset_index()\\\n",
    "                    .rename(columns={'sum': 'Nominator', 'count': 'Denominator'}).assign(Extra=None)\\\n",
    "                    .assign(Metric=metrics[1])\n",
    "                    \n",
    "                ,df_corrected[df_corrected[cat_col].eq('one-time') | df_corrected[cat_col].isnull()]\\\n",
    "                    .groupby(target)[num_cols[1]].agg(['mean', list]).reset_index()\\\n",
    "                    .rename(columns={'mean': 'Nominator', 'list': 'Extra'}).assign(Denominator=1)\\\n",
    "                    .assign(Metric=metrics[2])\\\n",
    "                    [[target, 'Nominator', 'Denominator', 'Extra', 'Metric']]    \n",
    "                    \n",
    "                ,df_corrected\\\n",
    "                    .groupby(target)[num_cols[1]].agg(['mean', list]).reset_index()\\\n",
    "                    .rename(columns={'mean': 'Nominator', 'list': 'Extra'}).assign(Denominator=1)\\\n",
    "                    .assign(Metric=metrics[3])\\\n",
    "                    [[target, 'Nominator', 'Denominator', 'Extra', 'Metric']]   \n",
    "                    \n",
    "                ,df_corrected.groupby([target, cat_col])[idx_col].count().unstack().reset_index()\\\n",
    "                    .assign(Denominator=lambda x: x['one-time'] + x['recurring'])\\\n",
    "                    .rename(columns={'one-time': 'Nominator'}).assign(Extra=None)\\\n",
    "                    .assign(Metric=metrics[4])\\\n",
    "                    [[target, 'Nominator', 'Denominator', 'Extra', 'Metric']] \n",
    "                    \n",
    "                ]\n",
    "                ,ignore_index=True   \n",
    ")\n",
    "\n",
    "df_agg.head()"
   ]
  },
  {
   "cell_type": "code",
   "execution_count": 150,
   "metadata": {
    "code_folding": [
     0
    ]
   },
   "outputs": [
    {
     "data": {
      "application/vnd.plotly.v1+json": {
       "config": {
        "plotlyServerURL": "https://plot.ly"
       },
       "data": [
        {
         "base": "group",
         "marker": {
          "color": [
           "#b5de2b",
           "#482878"
          ],
          "line": {
           "color": "black",
           "width": 0.8
          }
         },
         "name": "КонверсияИзПросмотраВДонат(ДляРазовыхПожертвований)",
         "opacity": 0.8,
         "orientation": "v",
         "text": [
          "0.094",
          "0.101"
         ],
         "textposition": "auto",
         "type": "bar",
         "visible": true,
         "x": [
          "control",
          "test"
         ],
         "y": [
          0.09360162785439746,
          0.10133742928857753
         ]
        },
        {
         "base": "group",
         "marker": {
          "color": [
           "#6ece58",
           "#3e4989"
          ],
          "line": {
           "color": "black",
           "width": 0.8
          }
         },
         "name": "КонверсияИзПросмотраВДонат(ДляВсехПожертвований)",
         "opacity": 0.8,
         "orientation": "v",
         "text": [
          "0.097",
          "0.104"
         ],
         "textposition": "auto",
         "type": "bar",
         "visible": false,
         "x": [
          "control",
          "test"
         ],
         "y": [
          0.0971398543652879,
          0.1037214168285757
         ]
        },
        {
         "base": "group",
         "marker": {
          "color": [
           "#31688e",
           "#35b779"
          ],
          "line": {
           "color": "black",
           "width": 0.8
          }
         },
         "name": "СредняяСуммаДоната(ДляРазовыхПожертвований)",
         "opacity": 0.8,
         "orientation": "v",
         "text": [
          "80.138",
          "78.831"
         ],
         "textposition": "auto",
         "type": "bar",
         "visible": false,
         "x": [
          "control",
          "test"
         ],
         "y": [
          80.1376811594203,
          78.83142329020333
         ]
        },
        {
         "base": "group",
         "marker": {
          "color": [
           "#26828e",
           "#1f9e89"
          ],
          "line": {
           "color": "black",
           "width": 0.8
          }
         },
         "name": "СредняяСуммаДоната(ДляВсехПожертвований)",
         "opacity": 0.8,
         "orientation": "v",
         "text": [
          "78.448",
          "78.232"
         ],
         "textposition": "auto",
         "type": "bar",
         "visible": false,
         "x": [
          "control",
          "test"
         ],
         "y": [
          78.44783616692426,
          78.23162824207493
         ]
        },
        {
         "base": "group",
         "marker": {
          "color": [
           "#26828e",
           "#1f9e89"
          ],
          "line": {
           "color": "black",
           "width": 0.8
          }
         },
         "name": "ДоляРазовыхПожертвований",
         "opacity": 0.8,
         "orientation": "v",
         "text": [
          "0.96",
          "0.974"
         ],
         "textposition": "auto",
         "type": "bar",
         "visible": false,
         "x": [
          "control",
          "test"
         ],
         "y": [
          0.9598145285935085,
          0.9744236311239193
         ]
        }
       ],
       "layout": {
        "sliders": [
         {
          "active": 10,
          "currentvalue": {
           "prefix": ""
          },
          "pad": {
           "t": 100
          },
          "steps": [
           {
            "args": [
             {
              "visible": [
               true,
               false,
               false,
               false,
               false
              ]
             },
             {
              "barmode": "group",
              "title.text": "КонверсияИзПросмотраВДонат(ДляРазовыхПожертвований)"
             }
            ],
            "label": "КонверсияИзПросмотраВДонат(ДляРазовыхПожертвований)",
            "method": "update"
           },
           {
            "args": [
             {
              "visible": [
               false,
               true,
               false,
               false,
               false
              ]
             },
             {
              "barmode": "group",
              "title.text": "КонверсияИзПросмотраВДонат(ДляВсехПожертвований)"
             }
            ],
            "label": "КонверсияИзПросмотраВДонат(ДляВсехПожертвований)",
            "method": "update"
           },
           {
            "args": [
             {
              "visible": [
               false,
               false,
               true,
               false,
               false
              ]
             },
             {
              "barmode": "group",
              "title.text": "СредняяСуммаДоната(ДляРазовыхПожертвований)"
             }
            ],
            "label": "СредняяСуммаДоната(ДляРазовыхПожертвований)",
            "method": "update"
           },
           {
            "args": [
             {
              "visible": [
               false,
               false,
               false,
               true,
               false
              ]
             },
             {
              "barmode": "group",
              "title.text": "СредняяСуммаДоната(ДляВсехПожертвований)"
             }
            ],
            "label": "СредняяСуммаДоната(ДляВсехПожертвований)",
            "method": "update"
           },
           {
            "args": [
             {
              "visible": [
               false,
               false,
               false,
               false,
               true
              ]
             },
             {
              "barmode": "group",
              "title.text": "ДоляРазовыхПожертвований"
             }
            ],
            "label": "ДоляРазовыхПожертвований",
            "method": "update"
           }
          ]
         }
        ],
        "template": {
         "data": {
          "bar": [
           {
            "error_x": {
             "color": "#2a3f5f"
            },
            "error_y": {
             "color": "#2a3f5f"
            },
            "marker": {
             "line": {
              "color": "#E5ECF6",
              "width": 0.5
             },
             "pattern": {
              "fillmode": "overlay",
              "size": 10,
              "solidity": 0.2
             }
            },
            "type": "bar"
           }
          ],
          "barpolar": [
           {
            "marker": {
             "line": {
              "color": "#E5ECF6",
              "width": 0.5
             },
             "pattern": {
              "fillmode": "overlay",
              "size": 10,
              "solidity": 0.2
             }
            },
            "type": "barpolar"
           }
          ],
          "carpet": [
           {
            "aaxis": {
             "endlinecolor": "#2a3f5f",
             "gridcolor": "white",
             "linecolor": "white",
             "minorgridcolor": "white",
             "startlinecolor": "#2a3f5f"
            },
            "baxis": {
             "endlinecolor": "#2a3f5f",
             "gridcolor": "white",
             "linecolor": "white",
             "minorgridcolor": "white",
             "startlinecolor": "#2a3f5f"
            },
            "type": "carpet"
           }
          ],
          "choropleth": [
           {
            "colorbar": {
             "outlinewidth": 0,
             "ticks": ""
            },
            "type": "choropleth"
           }
          ],
          "contour": [
           {
            "colorbar": {
             "outlinewidth": 0,
             "ticks": ""
            },
            "colorscale": [
             [
              0,
              "#0d0887"
             ],
             [
              0.1111111111111111,
              "#46039f"
             ],
             [
              0.2222222222222222,
              "#7201a8"
             ],
             [
              0.3333333333333333,
              "#9c179e"
             ],
             [
              0.4444444444444444,
              "#bd3786"
             ],
             [
              0.5555555555555556,
              "#d8576b"
             ],
             [
              0.6666666666666666,
              "#ed7953"
             ],
             [
              0.7777777777777778,
              "#fb9f3a"
             ],
             [
              0.8888888888888888,
              "#fdca26"
             ],
             [
              1,
              "#f0f921"
             ]
            ],
            "type": "contour"
           }
          ],
          "contourcarpet": [
           {
            "colorbar": {
             "outlinewidth": 0,
             "ticks": ""
            },
            "type": "contourcarpet"
           }
          ],
          "heatmap": [
           {
            "colorbar": {
             "outlinewidth": 0,
             "ticks": ""
            },
            "colorscale": [
             [
              0,
              "#0d0887"
             ],
             [
              0.1111111111111111,
              "#46039f"
             ],
             [
              0.2222222222222222,
              "#7201a8"
             ],
             [
              0.3333333333333333,
              "#9c179e"
             ],
             [
              0.4444444444444444,
              "#bd3786"
             ],
             [
              0.5555555555555556,
              "#d8576b"
             ],
             [
              0.6666666666666666,
              "#ed7953"
             ],
             [
              0.7777777777777778,
              "#fb9f3a"
             ],
             [
              0.8888888888888888,
              "#fdca26"
             ],
             [
              1,
              "#f0f921"
             ]
            ],
            "type": "heatmap"
           }
          ],
          "heatmapgl": [
           {
            "colorbar": {
             "outlinewidth": 0,
             "ticks": ""
            },
            "colorscale": [
             [
              0,
              "#0d0887"
             ],
             [
              0.1111111111111111,
              "#46039f"
             ],
             [
              0.2222222222222222,
              "#7201a8"
             ],
             [
              0.3333333333333333,
              "#9c179e"
             ],
             [
              0.4444444444444444,
              "#bd3786"
             ],
             [
              0.5555555555555556,
              "#d8576b"
             ],
             [
              0.6666666666666666,
              "#ed7953"
             ],
             [
              0.7777777777777778,
              "#fb9f3a"
             ],
             [
              0.8888888888888888,
              "#fdca26"
             ],
             [
              1,
              "#f0f921"
             ]
            ],
            "type": "heatmapgl"
           }
          ],
          "histogram": [
           {
            "marker": {
             "pattern": {
              "fillmode": "overlay",
              "size": 10,
              "solidity": 0.2
             }
            },
            "type": "histogram"
           }
          ],
          "histogram2d": [
           {
            "colorbar": {
             "outlinewidth": 0,
             "ticks": ""
            },
            "colorscale": [
             [
              0,
              "#0d0887"
             ],
             [
              0.1111111111111111,
              "#46039f"
             ],
             [
              0.2222222222222222,
              "#7201a8"
             ],
             [
              0.3333333333333333,
              "#9c179e"
             ],
             [
              0.4444444444444444,
              "#bd3786"
             ],
             [
              0.5555555555555556,
              "#d8576b"
             ],
             [
              0.6666666666666666,
              "#ed7953"
             ],
             [
              0.7777777777777778,
              "#fb9f3a"
             ],
             [
              0.8888888888888888,
              "#fdca26"
             ],
             [
              1,
              "#f0f921"
             ]
            ],
            "type": "histogram2d"
           }
          ],
          "histogram2dcontour": [
           {
            "colorbar": {
             "outlinewidth": 0,
             "ticks": ""
            },
            "colorscale": [
             [
              0,
              "#0d0887"
             ],
             [
              0.1111111111111111,
              "#46039f"
             ],
             [
              0.2222222222222222,
              "#7201a8"
             ],
             [
              0.3333333333333333,
              "#9c179e"
             ],
             [
              0.4444444444444444,
              "#bd3786"
             ],
             [
              0.5555555555555556,
              "#d8576b"
             ],
             [
              0.6666666666666666,
              "#ed7953"
             ],
             [
              0.7777777777777778,
              "#fb9f3a"
             ],
             [
              0.8888888888888888,
              "#fdca26"
             ],
             [
              1,
              "#f0f921"
             ]
            ],
            "type": "histogram2dcontour"
           }
          ],
          "mesh3d": [
           {
            "colorbar": {
             "outlinewidth": 0,
             "ticks": ""
            },
            "type": "mesh3d"
           }
          ],
          "parcoords": [
           {
            "line": {
             "colorbar": {
              "outlinewidth": 0,
              "ticks": ""
             }
            },
            "type": "parcoords"
           }
          ],
          "pie": [
           {
            "automargin": true,
            "type": "pie"
           }
          ],
          "scatter": [
           {
            "marker": {
             "colorbar": {
              "outlinewidth": 0,
              "ticks": ""
             }
            },
            "type": "scatter"
           }
          ],
          "scatter3d": [
           {
            "line": {
             "colorbar": {
              "outlinewidth": 0,
              "ticks": ""
             }
            },
            "marker": {
             "colorbar": {
              "outlinewidth": 0,
              "ticks": ""
             }
            },
            "type": "scatter3d"
           }
          ],
          "scattercarpet": [
           {
            "marker": {
             "colorbar": {
              "outlinewidth": 0,
              "ticks": ""
             }
            },
            "type": "scattercarpet"
           }
          ],
          "scattergeo": [
           {
            "marker": {
             "colorbar": {
              "outlinewidth": 0,
              "ticks": ""
             }
            },
            "type": "scattergeo"
           }
          ],
          "scattergl": [
           {
            "marker": {
             "colorbar": {
              "outlinewidth": 0,
              "ticks": ""
             }
            },
            "type": "scattergl"
           }
          ],
          "scattermapbox": [
           {
            "marker": {
             "colorbar": {
              "outlinewidth": 0,
              "ticks": ""
             }
            },
            "type": "scattermapbox"
           }
          ],
          "scatterpolar": [
           {
            "marker": {
             "colorbar": {
              "outlinewidth": 0,
              "ticks": ""
             }
            },
            "type": "scatterpolar"
           }
          ],
          "scatterpolargl": [
           {
            "marker": {
             "colorbar": {
              "outlinewidth": 0,
              "ticks": ""
             }
            },
            "type": "scatterpolargl"
           }
          ],
          "scatterternary": [
           {
            "marker": {
             "colorbar": {
              "outlinewidth": 0,
              "ticks": ""
             }
            },
            "type": "scatterternary"
           }
          ],
          "surface": [
           {
            "colorbar": {
             "outlinewidth": 0,
             "ticks": ""
            },
            "colorscale": [
             [
              0,
              "#0d0887"
             ],
             [
              0.1111111111111111,
              "#46039f"
             ],
             [
              0.2222222222222222,
              "#7201a8"
             ],
             [
              0.3333333333333333,
              "#9c179e"
             ],
             [
              0.4444444444444444,
              "#bd3786"
             ],
             [
              0.5555555555555556,
              "#d8576b"
             ],
             [
              0.6666666666666666,
              "#ed7953"
             ],
             [
              0.7777777777777778,
              "#fb9f3a"
             ],
             [
              0.8888888888888888,
              "#fdca26"
             ],
             [
              1,
              "#f0f921"
             ]
            ],
            "type": "surface"
           }
          ],
          "table": [
           {
            "cells": {
             "fill": {
              "color": "#EBF0F8"
             },
             "line": {
              "color": "white"
             }
            },
            "header": {
             "fill": {
              "color": "#C8D4E3"
             },
             "line": {
              "color": "white"
             }
            },
            "type": "table"
           }
          ]
         },
         "layout": {
          "annotationdefaults": {
           "arrowcolor": "#2a3f5f",
           "arrowhead": 0,
           "arrowwidth": 1
          },
          "autotypenumbers": "strict",
          "coloraxis": {
           "colorbar": {
            "outlinewidth": 0,
            "ticks": ""
           }
          },
          "colorscale": {
           "diverging": [
            [
             0,
             "#8e0152"
            ],
            [
             0.1,
             "#c51b7d"
            ],
            [
             0.2,
             "#de77ae"
            ],
            [
             0.3,
             "#f1b6da"
            ],
            [
             0.4,
             "#fde0ef"
            ],
            [
             0.5,
             "#f7f7f7"
            ],
            [
             0.6,
             "#e6f5d0"
            ],
            [
             0.7,
             "#b8e186"
            ],
            [
             0.8,
             "#7fbc41"
            ],
            [
             0.9,
             "#4d9221"
            ],
            [
             1,
             "#276419"
            ]
           ],
           "sequential": [
            [
             0,
             "#0d0887"
            ],
            [
             0.1111111111111111,
             "#46039f"
            ],
            [
             0.2222222222222222,
             "#7201a8"
            ],
            [
             0.3333333333333333,
             "#9c179e"
            ],
            [
             0.4444444444444444,
             "#bd3786"
            ],
            [
             0.5555555555555556,
             "#d8576b"
            ],
            [
             0.6666666666666666,
             "#ed7953"
            ],
            [
             0.7777777777777778,
             "#fb9f3a"
            ],
            [
             0.8888888888888888,
             "#fdca26"
            ],
            [
             1,
             "#f0f921"
            ]
           ],
           "sequentialminus": [
            [
             0,
             "#0d0887"
            ],
            [
             0.1111111111111111,
             "#46039f"
            ],
            [
             0.2222222222222222,
             "#7201a8"
            ],
            [
             0.3333333333333333,
             "#9c179e"
            ],
            [
             0.4444444444444444,
             "#bd3786"
            ],
            [
             0.5555555555555556,
             "#d8576b"
            ],
            [
             0.6666666666666666,
             "#ed7953"
            ],
            [
             0.7777777777777778,
             "#fb9f3a"
            ],
            [
             0.8888888888888888,
             "#fdca26"
            ],
            [
             1,
             "#f0f921"
            ]
           ]
          },
          "colorway": [
           "#636efa",
           "#EF553B",
           "#00cc96",
           "#ab63fa",
           "#FFA15A",
           "#19d3f3",
           "#FF6692",
           "#B6E880",
           "#FF97FF",
           "#FECB52"
          ],
          "font": {
           "color": "#2a3f5f"
          },
          "geo": {
           "bgcolor": "white",
           "lakecolor": "white",
           "landcolor": "#E5ECF6",
           "showlakes": true,
           "showland": true,
           "subunitcolor": "white"
          },
          "hoverlabel": {
           "align": "left"
          },
          "hovermode": "closest",
          "mapbox": {
           "style": "light"
          },
          "paper_bgcolor": "white",
          "plot_bgcolor": "#E5ECF6",
          "polar": {
           "angularaxis": {
            "gridcolor": "white",
            "linecolor": "white",
            "ticks": ""
           },
           "bgcolor": "#E5ECF6",
           "radialaxis": {
            "gridcolor": "white",
            "linecolor": "white",
            "ticks": ""
           }
          },
          "scene": {
           "xaxis": {
            "backgroundcolor": "#E5ECF6",
            "gridcolor": "white",
            "gridwidth": 2,
            "linecolor": "white",
            "showbackground": true,
            "ticks": "",
            "zerolinecolor": "white"
           },
           "yaxis": {
            "backgroundcolor": "#E5ECF6",
            "gridcolor": "white",
            "gridwidth": 2,
            "linecolor": "white",
            "showbackground": true,
            "ticks": "",
            "zerolinecolor": "white"
           },
           "zaxis": {
            "backgroundcolor": "#E5ECF6",
            "gridcolor": "white",
            "gridwidth": 2,
            "linecolor": "white",
            "showbackground": true,
            "ticks": "",
            "zerolinecolor": "white"
           }
          },
          "shapedefaults": {
           "line": {
            "color": "#2a3f5f"
           }
          },
          "ternary": {
           "aaxis": {
            "gridcolor": "white",
            "linecolor": "white",
            "ticks": ""
           },
           "baxis": {
            "gridcolor": "white",
            "linecolor": "white",
            "ticks": ""
           },
           "bgcolor": "#E5ECF6",
           "caxis": {
            "gridcolor": "white",
            "linecolor": "white",
            "ticks": ""
           }
          },
          "title": {
           "x": 0.05
          },
          "xaxis": {
           "automargin": true,
           "gridcolor": "white",
           "linecolor": "white",
           "ticks": "",
           "title": {
            "standoff": 15
           },
           "zerolinecolor": "white",
           "zerolinewidth": 2
          },
          "yaxis": {
           "automargin": true,
           "gridcolor": "white",
           "linecolor": "white",
           "ticks": "",
           "title": {
            "standoff": 15
           },
           "zerolinecolor": "white",
           "zerolinewidth": 2
          }
         }
        },
        "title": {
         "text": "КонверсияИзПросмотраВДонат(ДляРазовыхПожертвований)",
         "x": 0.5
        }
       }
      },
      "text/html": [
       "<div>                            <div id=\"36027e11-970e-4dfd-bac9-d5f229175b2d\" class=\"plotly-graph-div\" style=\"height:525px; width:100%;\"></div>            <script type=\"text/javascript\">                require([\"plotly\"], function(Plotly) {                    window.PLOTLYENV=window.PLOTLYENV || {};                                    if (document.getElementById(\"36027e11-970e-4dfd-bac9-d5f229175b2d\")) {                    Plotly.newPlot(                        \"36027e11-970e-4dfd-bac9-d5f229175b2d\",                        [{\"base\":\"group\",\"marker\":{\"color\":[\"#b5de2b\",\"#482878\"],\"line\":{\"color\":\"black\",\"width\":0.8}},\"name\":\"\\u041a\\u043e\\u043d\\u0432\\u0435\\u0440\\u0441\\u0438\\u044f\\u0418\\u0437\\u041f\\u0440\\u043e\\u0441\\u043c\\u043e\\u0442\\u0440\\u0430\\u0412\\u0414\\u043e\\u043d\\u0430\\u0442(\\u0414\\u043b\\u044f\\u0420\\u0430\\u0437\\u043e\\u0432\\u044b\\u0445\\u041f\\u043e\\u0436\\u0435\\u0440\\u0442\\u0432\\u043e\\u0432\\u0430\\u043d\\u0438\\u0439)\",\"opacity\":0.8,\"orientation\":\"v\",\"text\":[\"0.094\",\"0.101\"],\"textposition\":\"auto\",\"type\":\"bar\",\"visible\":true,\"x\":[\"control\",\"test\"],\"y\":[0.09360162785439746,0.10133742928857753]},{\"base\":\"group\",\"marker\":{\"color\":[\"#6ece58\",\"#3e4989\"],\"line\":{\"color\":\"black\",\"width\":0.8}},\"name\":\"\\u041a\\u043e\\u043d\\u0432\\u0435\\u0440\\u0441\\u0438\\u044f\\u0418\\u0437\\u041f\\u0440\\u043e\\u0441\\u043c\\u043e\\u0442\\u0440\\u0430\\u0412\\u0414\\u043e\\u043d\\u0430\\u0442(\\u0414\\u043b\\u044f\\u0412\\u0441\\u0435\\u0445\\u041f\\u043e\\u0436\\u0435\\u0440\\u0442\\u0432\\u043e\\u0432\\u0430\\u043d\\u0438\\u0439)\",\"opacity\":0.8,\"orientation\":\"v\",\"text\":[\"0.097\",\"0.104\"],\"textposition\":\"auto\",\"type\":\"bar\",\"visible\":false,\"x\":[\"control\",\"test\"],\"y\":[0.0971398543652879,0.1037214168285757]},{\"base\":\"group\",\"marker\":{\"color\":[\"#31688e\",\"#35b779\"],\"line\":{\"color\":\"black\",\"width\":0.8}},\"name\":\"\\u0421\\u0440\\u0435\\u0434\\u043d\\u044f\\u044f\\u0421\\u0443\\u043c\\u043c\\u0430\\u0414\\u043e\\u043d\\u0430\\u0442\\u0430(\\u0414\\u043b\\u044f\\u0420\\u0430\\u0437\\u043e\\u0432\\u044b\\u0445\\u041f\\u043e\\u0436\\u0435\\u0440\\u0442\\u0432\\u043e\\u0432\\u0430\\u043d\\u0438\\u0439)\",\"opacity\":0.8,\"orientation\":\"v\",\"text\":[\"80.138\",\"78.831\"],\"textposition\":\"auto\",\"type\":\"bar\",\"visible\":false,\"x\":[\"control\",\"test\"],\"y\":[80.1376811594203,78.83142329020333]},{\"base\":\"group\",\"marker\":{\"color\":[\"#26828e\",\"#1f9e89\"],\"line\":{\"color\":\"black\",\"width\":0.8}},\"name\":\"\\u0421\\u0440\\u0435\\u0434\\u043d\\u044f\\u044f\\u0421\\u0443\\u043c\\u043c\\u0430\\u0414\\u043e\\u043d\\u0430\\u0442\\u0430(\\u0414\\u043b\\u044f\\u0412\\u0441\\u0435\\u0445\\u041f\\u043e\\u0436\\u0435\\u0440\\u0442\\u0432\\u043e\\u0432\\u0430\\u043d\\u0438\\u0439)\",\"opacity\":0.8,\"orientation\":\"v\",\"text\":[\"78.448\",\"78.232\"],\"textposition\":\"auto\",\"type\":\"bar\",\"visible\":false,\"x\":[\"control\",\"test\"],\"y\":[78.44783616692426,78.23162824207493]},{\"base\":\"group\",\"marker\":{\"color\":[\"#26828e\",\"#1f9e89\"],\"line\":{\"color\":\"black\",\"width\":0.8}},\"name\":\"\\u0414\\u043e\\u043b\\u044f\\u0420\\u0430\\u0437\\u043e\\u0432\\u044b\\u0445\\u041f\\u043e\\u0436\\u0435\\u0440\\u0442\\u0432\\u043e\\u0432\\u0430\\u043d\\u0438\\u0439\",\"opacity\":0.8,\"orientation\":\"v\",\"text\":[\"0.96\",\"0.974\"],\"textposition\":\"auto\",\"type\":\"bar\",\"visible\":false,\"x\":[\"control\",\"test\"],\"y\":[0.9598145285935085,0.9744236311239193]}],                        {\"sliders\":[{\"active\":10,\"currentvalue\":{\"prefix\":\"\"},\"pad\":{\"t\":100},\"steps\":[{\"args\":[{\"visible\":[true,false,false,false,false]},{\"barmode\":\"group\",\"title.text\":\"\\u041a\\u043e\\u043d\\u0432\\u0435\\u0440\\u0441\\u0438\\u044f\\u0418\\u0437\\u041f\\u0440\\u043e\\u0441\\u043c\\u043e\\u0442\\u0440\\u0430\\u0412\\u0414\\u043e\\u043d\\u0430\\u0442(\\u0414\\u043b\\u044f\\u0420\\u0430\\u0437\\u043e\\u0432\\u044b\\u0445\\u041f\\u043e\\u0436\\u0435\\u0440\\u0442\\u0432\\u043e\\u0432\\u0430\\u043d\\u0438\\u0439)\"}],\"label\":\"\\u041a\\u043e\\u043d\\u0432\\u0435\\u0440\\u0441\\u0438\\u044f\\u0418\\u0437\\u041f\\u0440\\u043e\\u0441\\u043c\\u043e\\u0442\\u0440\\u0430\\u0412\\u0414\\u043e\\u043d\\u0430\\u0442(\\u0414\\u043b\\u044f\\u0420\\u0430\\u0437\\u043e\\u0432\\u044b\\u0445\\u041f\\u043e\\u0436\\u0435\\u0440\\u0442\\u0432\\u043e\\u0432\\u0430\\u043d\\u0438\\u0439)\",\"method\":\"update\"},{\"args\":[{\"visible\":[false,true,false,false,false]},{\"barmode\":\"group\",\"title.text\":\"\\u041a\\u043e\\u043d\\u0432\\u0435\\u0440\\u0441\\u0438\\u044f\\u0418\\u0437\\u041f\\u0440\\u043e\\u0441\\u043c\\u043e\\u0442\\u0440\\u0430\\u0412\\u0414\\u043e\\u043d\\u0430\\u0442(\\u0414\\u043b\\u044f\\u0412\\u0441\\u0435\\u0445\\u041f\\u043e\\u0436\\u0435\\u0440\\u0442\\u0432\\u043e\\u0432\\u0430\\u043d\\u0438\\u0439)\"}],\"label\":\"\\u041a\\u043e\\u043d\\u0432\\u0435\\u0440\\u0441\\u0438\\u044f\\u0418\\u0437\\u041f\\u0440\\u043e\\u0441\\u043c\\u043e\\u0442\\u0440\\u0430\\u0412\\u0414\\u043e\\u043d\\u0430\\u0442(\\u0414\\u043b\\u044f\\u0412\\u0441\\u0435\\u0445\\u041f\\u043e\\u0436\\u0435\\u0440\\u0442\\u0432\\u043e\\u0432\\u0430\\u043d\\u0438\\u0439)\",\"method\":\"update\"},{\"args\":[{\"visible\":[false,false,true,false,false]},{\"barmode\":\"group\",\"title.text\":\"\\u0421\\u0440\\u0435\\u0434\\u043d\\u044f\\u044f\\u0421\\u0443\\u043c\\u043c\\u0430\\u0414\\u043e\\u043d\\u0430\\u0442\\u0430(\\u0414\\u043b\\u044f\\u0420\\u0430\\u0437\\u043e\\u0432\\u044b\\u0445\\u041f\\u043e\\u0436\\u0435\\u0440\\u0442\\u0432\\u043e\\u0432\\u0430\\u043d\\u0438\\u0439)\"}],\"label\":\"\\u0421\\u0440\\u0435\\u0434\\u043d\\u044f\\u044f\\u0421\\u0443\\u043c\\u043c\\u0430\\u0414\\u043e\\u043d\\u0430\\u0442\\u0430(\\u0414\\u043b\\u044f\\u0420\\u0430\\u0437\\u043e\\u0432\\u044b\\u0445\\u041f\\u043e\\u0436\\u0435\\u0440\\u0442\\u0432\\u043e\\u0432\\u0430\\u043d\\u0438\\u0439)\",\"method\":\"update\"},{\"args\":[{\"visible\":[false,false,false,true,false]},{\"barmode\":\"group\",\"title.text\":\"\\u0421\\u0440\\u0435\\u0434\\u043d\\u044f\\u044f\\u0421\\u0443\\u043c\\u043c\\u0430\\u0414\\u043e\\u043d\\u0430\\u0442\\u0430(\\u0414\\u043b\\u044f\\u0412\\u0441\\u0435\\u0445\\u041f\\u043e\\u0436\\u0435\\u0440\\u0442\\u0432\\u043e\\u0432\\u0430\\u043d\\u0438\\u0439)\"}],\"label\":\"\\u0421\\u0440\\u0435\\u0434\\u043d\\u044f\\u044f\\u0421\\u0443\\u043c\\u043c\\u0430\\u0414\\u043e\\u043d\\u0430\\u0442\\u0430(\\u0414\\u043b\\u044f\\u0412\\u0441\\u0435\\u0445\\u041f\\u043e\\u0436\\u0435\\u0440\\u0442\\u0432\\u043e\\u0432\\u0430\\u043d\\u0438\\u0439)\",\"method\":\"update\"},{\"args\":[{\"visible\":[false,false,false,false,true]},{\"barmode\":\"group\",\"title.text\":\"\\u0414\\u043e\\u043b\\u044f\\u0420\\u0430\\u0437\\u043e\\u0432\\u044b\\u0445\\u041f\\u043e\\u0436\\u0435\\u0440\\u0442\\u0432\\u043e\\u0432\\u0430\\u043d\\u0438\\u0439\"}],\"label\":\"\\u0414\\u043e\\u043b\\u044f\\u0420\\u0430\\u0437\\u043e\\u0432\\u044b\\u0445\\u041f\\u043e\\u0436\\u0435\\u0440\\u0442\\u0432\\u043e\\u0432\\u0430\\u043d\\u0438\\u0439\",\"method\":\"update\"}]}],\"template\":{\"data\":{\"bar\":[{\"error_x\":{\"color\":\"#2a3f5f\"},\"error_y\":{\"color\":\"#2a3f5f\"},\"marker\":{\"line\":{\"color\":\"#E5ECF6\",\"width\":0.5},\"pattern\":{\"fillmode\":\"overlay\",\"size\":10,\"solidity\":0.2}},\"type\":\"bar\"}],\"barpolar\":[{\"marker\":{\"line\":{\"color\":\"#E5ECF6\",\"width\":0.5},\"pattern\":{\"fillmode\":\"overlay\",\"size\":10,\"solidity\":0.2}},\"type\":\"barpolar\"}],\"carpet\":[{\"aaxis\":{\"endlinecolor\":\"#2a3f5f\",\"gridcolor\":\"white\",\"linecolor\":\"white\",\"minorgridcolor\":\"white\",\"startlinecolor\":\"#2a3f5f\"},\"baxis\":{\"endlinecolor\":\"#2a3f5f\",\"gridcolor\":\"white\",\"linecolor\":\"white\",\"minorgridcolor\":\"white\",\"startlinecolor\":\"#2a3f5f\"},\"type\":\"carpet\"}],\"choropleth\":[{\"colorbar\":{\"outlinewidth\":0,\"ticks\":\"\"},\"type\":\"choropleth\"}],\"contour\":[{\"colorbar\":{\"outlinewidth\":0,\"ticks\":\"\"},\"colorscale\":[[0.0,\"#0d0887\"],[0.1111111111111111,\"#46039f\"],[0.2222222222222222,\"#7201a8\"],[0.3333333333333333,\"#9c179e\"],[0.4444444444444444,\"#bd3786\"],[0.5555555555555556,\"#d8576b\"],[0.6666666666666666,\"#ed7953\"],[0.7777777777777778,\"#fb9f3a\"],[0.8888888888888888,\"#fdca26\"],[1.0,\"#f0f921\"]],\"type\":\"contour\"}],\"contourcarpet\":[{\"colorbar\":{\"outlinewidth\":0,\"ticks\":\"\"},\"type\":\"contourcarpet\"}],\"heatmap\":[{\"colorbar\":{\"outlinewidth\":0,\"ticks\":\"\"},\"colorscale\":[[0.0,\"#0d0887\"],[0.1111111111111111,\"#46039f\"],[0.2222222222222222,\"#7201a8\"],[0.3333333333333333,\"#9c179e\"],[0.4444444444444444,\"#bd3786\"],[0.5555555555555556,\"#d8576b\"],[0.6666666666666666,\"#ed7953\"],[0.7777777777777778,\"#fb9f3a\"],[0.8888888888888888,\"#fdca26\"],[1.0,\"#f0f921\"]],\"type\":\"heatmap\"}],\"heatmapgl\":[{\"colorbar\":{\"outlinewidth\":0,\"ticks\":\"\"},\"colorscale\":[[0.0,\"#0d0887\"],[0.1111111111111111,\"#46039f\"],[0.2222222222222222,\"#7201a8\"],[0.3333333333333333,\"#9c179e\"],[0.4444444444444444,\"#bd3786\"],[0.5555555555555556,\"#d8576b\"],[0.6666666666666666,\"#ed7953\"],[0.7777777777777778,\"#fb9f3a\"],[0.8888888888888888,\"#fdca26\"],[1.0,\"#f0f921\"]],\"type\":\"heatmapgl\"}],\"histogram\":[{\"marker\":{\"pattern\":{\"fillmode\":\"overlay\",\"size\":10,\"solidity\":0.2}},\"type\":\"histogram\"}],\"histogram2d\":[{\"colorbar\":{\"outlinewidth\":0,\"ticks\":\"\"},\"colorscale\":[[0.0,\"#0d0887\"],[0.1111111111111111,\"#46039f\"],[0.2222222222222222,\"#7201a8\"],[0.3333333333333333,\"#9c179e\"],[0.4444444444444444,\"#bd3786\"],[0.5555555555555556,\"#d8576b\"],[0.6666666666666666,\"#ed7953\"],[0.7777777777777778,\"#fb9f3a\"],[0.8888888888888888,\"#fdca26\"],[1.0,\"#f0f921\"]],\"type\":\"histogram2d\"}],\"histogram2dcontour\":[{\"colorbar\":{\"outlinewidth\":0,\"ticks\":\"\"},\"colorscale\":[[0.0,\"#0d0887\"],[0.1111111111111111,\"#46039f\"],[0.2222222222222222,\"#7201a8\"],[0.3333333333333333,\"#9c179e\"],[0.4444444444444444,\"#bd3786\"],[0.5555555555555556,\"#d8576b\"],[0.6666666666666666,\"#ed7953\"],[0.7777777777777778,\"#fb9f3a\"],[0.8888888888888888,\"#fdca26\"],[1.0,\"#f0f921\"]],\"type\":\"histogram2dcontour\"}],\"mesh3d\":[{\"colorbar\":{\"outlinewidth\":0,\"ticks\":\"\"},\"type\":\"mesh3d\"}],\"parcoords\":[{\"line\":{\"colorbar\":{\"outlinewidth\":0,\"ticks\":\"\"}},\"type\":\"parcoords\"}],\"pie\":[{\"automargin\":true,\"type\":\"pie\"}],\"scatter\":[{\"marker\":{\"colorbar\":{\"outlinewidth\":0,\"ticks\":\"\"}},\"type\":\"scatter\"}],\"scatter3d\":[{\"line\":{\"colorbar\":{\"outlinewidth\":0,\"ticks\":\"\"}},\"marker\":{\"colorbar\":{\"outlinewidth\":0,\"ticks\":\"\"}},\"type\":\"scatter3d\"}],\"scattercarpet\":[{\"marker\":{\"colorbar\":{\"outlinewidth\":0,\"ticks\":\"\"}},\"type\":\"scattercarpet\"}],\"scattergeo\":[{\"marker\":{\"colorbar\":{\"outlinewidth\":0,\"ticks\":\"\"}},\"type\":\"scattergeo\"}],\"scattergl\":[{\"marker\":{\"colorbar\":{\"outlinewidth\":0,\"ticks\":\"\"}},\"type\":\"scattergl\"}],\"scattermapbox\":[{\"marker\":{\"colorbar\":{\"outlinewidth\":0,\"ticks\":\"\"}},\"type\":\"scattermapbox\"}],\"scatterpolar\":[{\"marker\":{\"colorbar\":{\"outlinewidth\":0,\"ticks\":\"\"}},\"type\":\"scatterpolar\"}],\"scatterpolargl\":[{\"marker\":{\"colorbar\":{\"outlinewidth\":0,\"ticks\":\"\"}},\"type\":\"scatterpolargl\"}],\"scatterternary\":[{\"marker\":{\"colorbar\":{\"outlinewidth\":0,\"ticks\":\"\"}},\"type\":\"scatterternary\"}],\"surface\":[{\"colorbar\":{\"outlinewidth\":0,\"ticks\":\"\"},\"colorscale\":[[0.0,\"#0d0887\"],[0.1111111111111111,\"#46039f\"],[0.2222222222222222,\"#7201a8\"],[0.3333333333333333,\"#9c179e\"],[0.4444444444444444,\"#bd3786\"],[0.5555555555555556,\"#d8576b\"],[0.6666666666666666,\"#ed7953\"],[0.7777777777777778,\"#fb9f3a\"],[0.8888888888888888,\"#fdca26\"],[1.0,\"#f0f921\"]],\"type\":\"surface\"}],\"table\":[{\"cells\":{\"fill\":{\"color\":\"#EBF0F8\"},\"line\":{\"color\":\"white\"}},\"header\":{\"fill\":{\"color\":\"#C8D4E3\"},\"line\":{\"color\":\"white\"}},\"type\":\"table\"}]},\"layout\":{\"annotationdefaults\":{\"arrowcolor\":\"#2a3f5f\",\"arrowhead\":0,\"arrowwidth\":1},\"autotypenumbers\":\"strict\",\"coloraxis\":{\"colorbar\":{\"outlinewidth\":0,\"ticks\":\"\"}},\"colorscale\":{\"diverging\":[[0,\"#8e0152\"],[0.1,\"#c51b7d\"],[0.2,\"#de77ae\"],[0.3,\"#f1b6da\"],[0.4,\"#fde0ef\"],[0.5,\"#f7f7f7\"],[0.6,\"#e6f5d0\"],[0.7,\"#b8e186\"],[0.8,\"#7fbc41\"],[0.9,\"#4d9221\"],[1,\"#276419\"]],\"sequential\":[[0.0,\"#0d0887\"],[0.1111111111111111,\"#46039f\"],[0.2222222222222222,\"#7201a8\"],[0.3333333333333333,\"#9c179e\"],[0.4444444444444444,\"#bd3786\"],[0.5555555555555556,\"#d8576b\"],[0.6666666666666666,\"#ed7953\"],[0.7777777777777778,\"#fb9f3a\"],[0.8888888888888888,\"#fdca26\"],[1.0,\"#f0f921\"]],\"sequentialminus\":[[0.0,\"#0d0887\"],[0.1111111111111111,\"#46039f\"],[0.2222222222222222,\"#7201a8\"],[0.3333333333333333,\"#9c179e\"],[0.4444444444444444,\"#bd3786\"],[0.5555555555555556,\"#d8576b\"],[0.6666666666666666,\"#ed7953\"],[0.7777777777777778,\"#fb9f3a\"],[0.8888888888888888,\"#fdca26\"],[1.0,\"#f0f921\"]]},\"colorway\":[\"#636efa\",\"#EF553B\",\"#00cc96\",\"#ab63fa\",\"#FFA15A\",\"#19d3f3\",\"#FF6692\",\"#B6E880\",\"#FF97FF\",\"#FECB52\"],\"font\":{\"color\":\"#2a3f5f\"},\"geo\":{\"bgcolor\":\"white\",\"lakecolor\":\"white\",\"landcolor\":\"#E5ECF6\",\"showlakes\":true,\"showland\":true,\"subunitcolor\":\"white\"},\"hoverlabel\":{\"align\":\"left\"},\"hovermode\":\"closest\",\"mapbox\":{\"style\":\"light\"},\"paper_bgcolor\":\"white\",\"plot_bgcolor\":\"#E5ECF6\",\"polar\":{\"angularaxis\":{\"gridcolor\":\"white\",\"linecolor\":\"white\",\"ticks\":\"\"},\"bgcolor\":\"#E5ECF6\",\"radialaxis\":{\"gridcolor\":\"white\",\"linecolor\":\"white\",\"ticks\":\"\"}},\"scene\":{\"xaxis\":{\"backgroundcolor\":\"#E5ECF6\",\"gridcolor\":\"white\",\"gridwidth\":2,\"linecolor\":\"white\",\"showbackground\":true,\"ticks\":\"\",\"zerolinecolor\":\"white\"},\"yaxis\":{\"backgroundcolor\":\"#E5ECF6\",\"gridcolor\":\"white\",\"gridwidth\":2,\"linecolor\":\"white\",\"showbackground\":true,\"ticks\":\"\",\"zerolinecolor\":\"white\"},\"zaxis\":{\"backgroundcolor\":\"#E5ECF6\",\"gridcolor\":\"white\",\"gridwidth\":2,\"linecolor\":\"white\",\"showbackground\":true,\"ticks\":\"\",\"zerolinecolor\":\"white\"}},\"shapedefaults\":{\"line\":{\"color\":\"#2a3f5f\"}},\"ternary\":{\"aaxis\":{\"gridcolor\":\"white\",\"linecolor\":\"white\",\"ticks\":\"\"},\"baxis\":{\"gridcolor\":\"white\",\"linecolor\":\"white\",\"ticks\":\"\"},\"bgcolor\":\"#E5ECF6\",\"caxis\":{\"gridcolor\":\"white\",\"linecolor\":\"white\",\"ticks\":\"\"}},\"title\":{\"x\":0.05},\"xaxis\":{\"automargin\":true,\"gridcolor\":\"white\",\"linecolor\":\"white\",\"ticks\":\"\",\"title\":{\"standoff\":15},\"zerolinecolor\":\"white\",\"zerolinewidth\":2},\"yaxis\":{\"automargin\":true,\"gridcolor\":\"white\",\"linecolor\":\"white\",\"ticks\":\"\",\"title\":{\"standoff\":15},\"zerolinecolor\":\"white\",\"zerolinewidth\":2}}},\"title\":{\"text\":\"\\u041a\\u043e\\u043d\\u0432\\u0435\\u0440\\u0441\\u0438\\u044f\\u0418\\u0437\\u041f\\u0440\\u043e\\u0441\\u043c\\u043e\\u0442\\u0440\\u0430\\u0412\\u0414\\u043e\\u043d\\u0430\\u0442(\\u0414\\u043b\\u044f\\u0420\\u0430\\u0437\\u043e\\u0432\\u044b\\u0445\\u041f\\u043e\\u0436\\u0435\\u0440\\u0442\\u0432\\u043e\\u0432\\u0430\\u043d\\u0438\\u0439)\",\"x\":0.5}},                        {\"responsive\": true}                    ).then(function(){\n",
       "                            \n",
       "var gd = document.getElementById('36027e11-970e-4dfd-bac9-d5f229175b2d');\n",
       "var x = new MutationObserver(function (mutations, observer) {{\n",
       "        var display = window.getComputedStyle(gd).display;\n",
       "        if (!display || display === 'none') {{\n",
       "            console.log([gd, 'removed!']);\n",
       "            Plotly.purge(gd);\n",
       "            observer.disconnect();\n",
       "        }}\n",
       "}});\n",
       "\n",
       "// Listen for the removal of the full notebook cells\n",
       "var notebookContainer = gd.closest('#notebook-container');\n",
       "if (notebookContainer) {{\n",
       "    x.observe(notebookContainer, {childList: true});\n",
       "}}\n",
       "\n",
       "// Listen for the clearing of the current output cell\n",
       "var outputEl = gd.closest('.output');\n",
       "if (outputEl) {{\n",
       "    x.observe(outputEl, {childList: true});\n",
       "}}\n",
       "\n",
       "                        })                };                });            </script>        </div>"
      ]
     },
     "metadata": {},
     "output_type": "display_data"
    }
   ],
   "source": [
    "# Visualization\n",
    "\n",
    "paper = go.Figure()\n",
    "\n",
    "palette_1 = px.colors.sequential.Viridis_r[1:]\n",
    "palette_2 = px.colors.sequential.Viridis[1:]\n",
    "\n",
    "start_col = metrics[0]\n",
    "colors_1 = iter([palette_1[i] if i < len(palette_1) else palette_1[i % len(palette_1)] for i in range(len(metrics))])\n",
    "colors_2 = iter([palette_2[i] if i < len(palette_2) else palette_2[i % len(palette_2)] for i in range(len(metrics))])\n",
    "\n",
    "for col in metrics:   \n",
    "    visible = False if col != start_col else True\n",
    "    \n",
    "    data = df_agg[df_agg['Metric'].eq(col)].assign(Ratio=lambda x: x['Nominator'] / x['Denominator']).reset_index()\n",
    "    \n",
    "    max_ratio = data['Ratio'].max()\n",
    "    \n",
    "    colors = [next(colors_1)] * data.shape[0]\n",
    "    colors[data[data['Ratio'].eq(max_ratio)].index[0]] = next(colors_2)\n",
    "    \n",
    "    paper.add_trace(\n",
    "                go.Bar(\n",
    "                     x=data[target]\n",
    "                    ,y=data['Ratio']\n",
    "                    ,base='group'\n",
    "                    ,text=np.round(data['Ratio'], 3)\n",
    "                    ,textposition='auto'\n",
    "                    ,orientation='v'\n",
    "                    ,marker_color=colors\n",
    "                    ,marker_line_color='black'\n",
    "                    ,marker_line_width=.8\n",
    "                    ,visible=visible\n",
    "                    ,opacity=.8\n",
    "                    ,name=col\n",
    "                )\n",
    "    )\n",
    "\n",
    "mysteps = [None] * len(metrics)\n",
    "for i, col in enumerate(metrics):\n",
    "    tmp = [True if j in range(1 * i, 1 * i + 1) else False for j in range(len(paper.data))] \n",
    "    step = {\n",
    "         'method': 'update'\n",
    "        ,'args': [{'visible': tmp}, {'title.text': f'{col}', 'barmode': 'group'}]\n",
    "        ,'label': col\n",
    "    }\n",
    "    mysteps[i] = step\n",
    "\n",
    "sliders = [{\n",
    "     'active': 10\n",
    "    ,'currentvalue': {'prefix': ''}\n",
    "    ,'pad': {'t': 100}\n",
    "    ,'steps': mysteps\n",
    "}]    \n",
    "    \n",
    "paper.update_layout(sliders=sliders, title={'text': f'{start_col}'}, title_x=0.5)\n",
    "\n",
    "# paper.write_html('метрики_по_группам.html')\n",
    "\n",
    "paper.show()"
   ]
  },
  {
   "cell_type": "markdown",
   "metadata": {},
   "source": [
    "____\n",
    "__Наблюдение:__\n",
    "* Значение метрики `КонверсияИзПросмотраВДонат(ДляРазовыхПожертвований)` выше в группе `test`;\n",
    "* Значение метрики `КонверсияИзПросмотраВДонат(ДляВсехПожертвований)` выше в группе `test`;\n",
    "* Значение метрики `СредняяСуммаДоната(ДляРазовыхПожертвований)` выше в группе `control`;\n",
    "* Значение метрики `СредняяСуммаДоната(ДляВсехПожертвований)` выше в группе `control`;\n",
    "* Значение метрики `ДоляРазовыхПожертвований` выше в группе `test`.\n",
    "____"
   ]
  },
  {
   "cell_type": "code",
   "execution_count": 151,
   "metadata": {},
   "outputs": [],
   "source": [
    "p_value = .05 # Стандартное пороговое значение"
   ]
  },
  {
   "cell_type": "code",
   "execution_count": 152,
   "metadata": {},
   "outputs": [
    {
     "name": "stdout",
     "output_type": "stream",
     "text": [
      "Результаты теста Хи-квадрат\n",
      "\n"
     ]
    },
    {
     "data": {
      "text/html": [
       "<div>\n",
       "<style scoped>\n",
       "    .dataframe tbody tr th:only-of-type {\n",
       "        vertical-align: middle;\n",
       "    }\n",
       "\n",
       "    .dataframe tbody tr th {\n",
       "        vertical-align: top;\n",
       "    }\n",
       "\n",
       "    .dataframe thead th {\n",
       "        text-align: right;\n",
       "    }\n",
       "</style>\n",
       "<table border=\"1\" class=\"dataframe\">\n",
       "  <thead>\n",
       "    <tr style=\"text-align: right;\">\n",
       "      <th></th>\n",
       "      <th>p_value</th>\n",
       "      <th>p_value &lt; 0.05</th>\n",
       "    </tr>\n",
       "    <tr>\n",
       "      <th>Metric</th>\n",
       "      <th></th>\n",
       "      <th></th>\n",
       "    </tr>\n",
       "  </thead>\n",
       "  <tbody>\n",
       "    <tr>\n",
       "      <th>ДоляРазовыхПожертвований</th>\n",
       "      <td>0.712785</td>\n",
       "      <td>False</td>\n",
       "    </tr>\n",
       "    <tr>\n",
       "      <th>КонверсияИзПросмотраВДонат(ДляВсехПожертвований)</th>\n",
       "      <td>0.023014</td>\n",
       "      <td>True</td>\n",
       "    </tr>\n",
       "    <tr>\n",
       "      <th>КонверсияИзПросмотраВДонат(ДляРазовыхПожертвований)</th>\n",
       "      <td>0.006651</td>\n",
       "      <td>True</td>\n",
       "    </tr>\n",
       "  </tbody>\n",
       "</table>\n",
       "</div>"
      ],
      "text/plain": [
       "                                                     p_value  p_value < 0.05\n",
       "Metric                                                                      \n",
       "ДоляРазовыхПожертвований                            0.712785           False\n",
       "КонверсияИзПросмотраВДонат(ДляВсехПожертвований)    0.023014            True\n",
       "КонверсияИзПросмотраВДонат(ДляРазовыхПожертвова...  0.006651            True"
      ]
     },
     "execution_count": 152,
     "metadata": {},
     "output_type": "execute_result"
    }
   ],
   "source": [
    "print('Результаты теста Хи-квадрат\\n') # Критерий для конверсионных метрик\n",
    "\n",
    "df_agg[~df_agg['Metric'].isin((metrics[2], metrics[3]))]\\\n",
    "                    .groupby('Metric')\\\n",
    "                    .apply(lambda x: chi2_contingency(x[['Nominator', 'Denominator']])[1])\\\n",
    "                    .to_frame().rename(columns={0: 'p_value'})\\\n",
    "                    .assign(tmp=lambda x: x['p_value'] < p_value)\\\n",
    "                    .rename(columns={'tmp': f'p_value < {p_value}'})"
   ]
  },
  {
   "cell_type": "code",
   "execution_count": 153,
   "metadata": {},
   "outputs": [
    {
     "name": "stdout",
     "output_type": "stream",
     "text": [
      "Результаты теста Манна-Уитни\n",
      "\n"
     ]
    },
    {
     "data": {
      "text/html": [
       "<div>\n",
       "<style scoped>\n",
       "    .dataframe tbody tr th:only-of-type {\n",
       "        vertical-align: middle;\n",
       "    }\n",
       "\n",
       "    .dataframe tbody tr th {\n",
       "        vertical-align: top;\n",
       "    }\n",
       "\n",
       "    .dataframe thead th {\n",
       "        text-align: right;\n",
       "    }\n",
       "</style>\n",
       "<table border=\"1\" class=\"dataframe\">\n",
       "  <thead>\n",
       "    <tr style=\"text-align: right;\">\n",
       "      <th></th>\n",
       "      <th>p_value</th>\n",
       "      <th>p_value &lt; 0.05</th>\n",
       "    </tr>\n",
       "    <tr>\n",
       "      <th>Metric</th>\n",
       "      <th></th>\n",
       "      <th></th>\n",
       "    </tr>\n",
       "  </thead>\n",
       "  <tbody>\n",
       "    <tr>\n",
       "      <th>СредняяСуммаДоната(ДляВсехПожертвований)</th>\n",
       "      <td>0.0</td>\n",
       "      <td>True</td>\n",
       "    </tr>\n",
       "    <tr>\n",
       "      <th>СредняяСуммаДоната(ДляРазовыхПожертвований)</th>\n",
       "      <td>0.0</td>\n",
       "      <td>True</td>\n",
       "    </tr>\n",
       "  </tbody>\n",
       "</table>\n",
       "</div>"
      ],
      "text/plain": [
       "                                             p_value  p_value < 0.05\n",
       "Metric                                                              \n",
       "СредняяСуммаДоната(ДляВсехПожертвований)         0.0            True\n",
       "СредняяСуммаДоната(ДляРазовыхПожертвований)      0.0            True"
      ]
     },
     "execution_count": 153,
     "metadata": {},
     "output_type": "execute_result"
    }
   ],
   "source": [
    "print('Результаты теста Манна-Уитни\\n') # Критерий для неконверсионных метрик и произвольной формы распределения\n",
    "\n",
    "df_agg[df_agg['Metric'].isin((metrics[2], metrics[3]))]\\\n",
    "                    .groupby('Metric')['Extra'].agg(list)\\\n",
    "                    .apply(lambda x: mannwhitneyu(*x)[1])\\\n",
    "                    .to_frame().rename(columns={'Extra': 'p_value'})\\\n",
    "                    .assign(tmp=lambda x: x['p_value'] < p_value)\\\n",
    "                    .rename(columns={'tmp': f'p_value < {p_value}'})"
   ]
  },
  {
   "cell_type": "markdown",
   "metadata": {},
   "source": [
    "____\n",
    "__Вывод:__ На уровне значимости 5% получили следующую картину:\n",
    "* По метрике `КонверсияИзПросмотраВДонат(ДляРазовыхПожертвований)` есть стат. значимые различия между группами;\n",
    "* По метрике `КонверсияИзПросмотраВДонат(ДляВсехПожертвований)` есть стат. значимые различия между группами;\n",
    "* По метрике `СредняяСуммаДоната(ДляРазовыхПожертвований)` есть стат. значимые различия между группами;\n",
    "* По метрике `СредняяСуммаДоната(ДляВсехПожертвований)` есть стат. значимые различия между группами;\n",
    "* По метрике `ДоляРазовыхПожертвований` стат. значимых различий обнаружить не удалось.\n",
    "____"
   ]
  },
  {
   "attachments": {
    "image.png": {
     "image/png": "[encoded data removed]"
    }
   },
   "cell_type": "markdown",
   "metadata": {},
   "source": [
    "__Замечание:__ На всякий случай проверим, хватает ли нам наблюдений для текущих изменений целевой метрики (размер выборки определяется до проведения эксперимента, но у нас нет информации было ли это сделано, поэтому лучше оценить хотя бы порядок величин).\n",
    "\n",
    "![image.png](attachment:image.png)\n",
    "\n",
    "__Вывод:__ Судя по всему нам хватает текущего количества наблюдений."
   ]
  },
  {
   "cell_type": "markdown",
   "metadata": {},
   "source": [
    "<div class=\"alert alert-success\">\n",
    "В результате проведенного эксперимента получили стат. значимое (на уровне значимости 5%) увеличение конверсии из просмотра в донат для разовых пожертвований при сохранении доли разовых пожертовований от всех (стат. значимых различий на уровне значимости 5% не нашли). Можно сделать вывод, что отсутствие предзаполенного положительно влияет на желание пользователя сделать пожертвование.<br/>\n",
    "<br/>\n",
    "Но в это же время мы получили небольшое, но стат. значимое снижение средней суммы этих пожертвований (на уровне значимости 5%). А это уже негативная тенденция.<br/>\n",
    "<br/>\n",
    "Поэтому я бы рекомендовал не раскатывать это изменение сразу (полностью убирать предзаполненную сумму), а попробовать провести доп. эксперименты с разными значением этой предзаполненной суммы. В идеале нам нужно получить стат. значимое увеличение конверсии в донат, но не снизить средний размер этих донатов.\n",
    "</div>"
   ]
  }
 ],
 "metadata": {
  "kernelspec": {
   "display_name": "Python 3",
   "language": "python",
   "name": "python3"
  },
  "language_info": {
   "codemirror_mode": {
    "name": "ipython",
    "version": 3
   },
   "file_extension": ".py",
   "mimetype": "text/x-python",
   "name": "python",
   "nbconvert_exporter": "python",
   "pygments_lexer": "ipython3",
   "version": "3.8.5"
  },
  "varInspector": {
   "cols": {
    "lenName": 16,
    "lenType": 16,
    "lenVar": 40
   },
   "kernels_config": {
    "python": {
     "delete_cmd_postfix": "",
     "delete_cmd_prefix": "del ",
     "library": "var_list.py",
     "varRefreshCmd": "print(var_dic_list())"
    },
    "r": {
     "delete_cmd_postfix": ") ",
     "delete_cmd_prefix": "rm(",
     "library": "var_list.r",
     "varRefreshCmd": "cat(var_dic_list()) "
    }
   },
   "types_to_exclude": [
    "module",
    "function",
    "builtin_function_or_method",
    "instance",
    "_Feature"
   ],
   "window_display": false
  }
 },
 "nbformat": 4,
 "nbformat_minor": 4
}
